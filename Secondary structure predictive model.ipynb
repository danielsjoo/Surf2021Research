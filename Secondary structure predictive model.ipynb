{
 "cells": [
  {
   "cell_type": "code",
   "execution_count": 1,
   "metadata": {},
   "outputs": [],
   "source": [
    "import csv\n",
    "import matplotlib.pyplot as plt\n",
    "import numpy as np\n",
    "from scipy import stats\n",
    "import RNA\n",
    "from timeit import default_timer as timer"
   ]
  },
  {
   "cell_type": "code",
   "execution_count": 2,
   "metadata": {},
   "outputs": [],
   "source": [
    "def abline(slope, intercept):\n",
    "    axes = plt.gca()\n",
    "    x_vals = np.array(axes.get_xlim())\n",
    "    y_vals = intercept + slope * x_vals\n",
    "    plt.plot(x_vals, y_vals, '--')"
   ]
  },
  {
   "cell_type": "code",
   "execution_count": 6,
   "metadata": {},
   "outputs": [],
   "source": [
    "from return_up import return_up"
   ]
  },
  {
   "cell_type": "code",
   "execution_count": 8,
   "metadata": {
    "scrolled": true
   },
   "outputs": [
    {
     "name": "stdout",
     "output_type": "stream",
     "text": [
      "0.7733133396104677\n",
      "0.7525842731338344\n",
      "0.08146876363025513\n",
      "0.0343506503268145\n",
      "0.041727031115442514\n",
      "0.06871101089927834\n",
      "0.10390628859749995\n",
      "0.42797659253847087\n",
      "0.06967861584416823\n",
      "0.06710827982897172\n",
      "0.11384377290960401\n",
      "0.04505384330695961\n",
      "0.0381467547849752\n",
      "0.276672821782995\n",
      "0.02253385588119272\n",
      "0.07235969704925083\n",
      "0.4396398510725703\n",
      "0.3398603333334904\n",
      "0.07257850290625356\n",
      "0.04467213459429331\n",
      "0.21562478791020112\n",
      "0.6337556271455469\n",
      "0.40041886216567946\n",
      "0.39134220775940776\n",
      "0.2960346298721106\n",
      "0.2238111108308658\n",
      "0.3500301664316794\n",
      "0.004126895633817185\n",
      "0.024218016198801706\n",
      "0.617285764530493\n",
      "0.6866532416694326\n",
      "0.7303562249326205\n",
      "0.9108144027231901\n",
      "0.7665155588467769\n",
      "0.10310523662883497\n",
      "0.21039031031818922\n",
      "0.39583998513603547\n",
      "0.35091860527836616\n",
      "0.36645134555055847\n",
      "0.28888150203147234\n",
      "0.01901986757548002\n",
      "0.48913221734073886\n",
      "0.7637159002281351\n",
      "0.400432530245439\n",
      "0.6815370133249417\n",
      "0.9194078007677717\n",
      "0.3259615397482776\n",
      "0.40605215522066374\n",
      "0.6487050761980981\n",
      "0.8078991486443101\n",
      "0.7022177356994916\n",
      "0.8804316801989671\n",
      "0.8859922570781009\n",
      "0.9064854760476919\n",
      "0.32965473243052656\n",
      "0.14578412868161195\n",
      "0.42012937480262735\n",
      "0.4519660786972963\n",
      "0.71014974043851\n",
      "0.13737534677238727\n",
      "0.048153074573974664\n",
      "0.05131032730514562\n",
      "0.03698583147149748\n",
      "0.015188280945494625\n",
      "0.09405009719284863\n",
      "0.34626954431917056\n",
      "0.9611511081188837\n",
      "0.41484309099678285\n",
      "0.16843432896507693\n",
      "0.16759762911783582\n",
      "0.21962201377141355\n",
      "0.933726431932655\n",
      "0.6809205292096294\n",
      "0.6285944834876318\n",
      "0.3235484354820528\n",
      "0.7019304253947212\n",
      "0.28216717700172467\n",
      "0.9256700362005859\n",
      "0.08770876784274151\n",
      "0.2920283344899417\n",
      "0.05292197677306376\n",
      "0.06403537099527057\n",
      "0.9683668530367413\n",
      "0.9583315960944674\n",
      "0.9957695008283736\n",
      "2.5574597125246156e+110\n",
      "0.9637590090546837\n",
      "0.9589900717655837\n",
      "0.9591153395231231\n",
      "0.9928781223156875\n"
     ]
    }
   ],
   "source": [
    "x = return_up(\"CCCCACCTCTTCTTCTTTTCTAGAGTTCTGGTCGGGAGCTCCAGCACAGTGAAATGGACAGAAGGGCAGAGCAAGTGAGTGGACAATGCG\")\n",
    "for i in x:\n",
    "    print(i)"
   ]
  },
  {
   "cell_type": "markdown",
   "metadata": {},
   "source": [
    "# This program is the predictive model for EI based on sequence and secondary structure\n",
    "\n",
    "From past work (ke et.al 2011), we have a model that scores every hexamer motif and uses those scores to predict the splicing efficiency (proportion of the time an exon is included in a mature RNA sequence). In this notebook. I will demonstrate this model, show its inefficiencies, and attempt to improve the model by factoring in availability, a property of RNA secondary structure.\n",
    "\n",
    "We will use two inputs.\n",
    "- hexamer scores from ESRseq \n",
    "- secondary structure from RNA fold software\n",
    "\n",
    "In this jupyter notebook, I will first cover the previous model, which only uses hexamer scores and work towards a more complete model"
   ]
  },
  {
   "cell_type": "markdown",
   "metadata": {},
   "source": [
    "## The past model\n",
    "In the ESR paper each hexamer (with 4^6 = 4096 possiblities) was analyzed and evaluated with a score that corresponds to enhacing or silencing. After filtering non significant hexamers, the arising model, which predicts splicing efficiency based on any exon sequence) works by simply adding up the scores of its hexamers.\n",
    "\n",
    "The following comic shows the process for a short exon\n",
    "\n",
    "[insert comic of how an 8 base exon gets processed]\n",
    "\n",
    "### Implementation and Demonstration of the model\n",
    "In the following 3 blocks of code, we are: importing the hex scores from the ESRseq library, implementing the model, and applying it to a random sequence to see its predicting splicing efficiency (as the log of the enrichment index)"
   ]
  },
  {
   "cell_type": "code",
   "execution_count": 15,
   "metadata": {},
   "outputs": [],
   "source": [
    "# hex scores come in a dictionary. Only significant ones are included. They represent LEI\n",
    "\n",
    "datafile = open('./data/ESRseq_scores.csv', 'r')\n",
    "datareader = csv.reader(datafile, delimiter=',')\n",
    "ESRseq_scores = {}\n",
    "for row in datareader:\n",
    "    if row[1] != \"\":\n",
    "        ESRseq_scores[row[0]] = float(row[1])\n",
    "datafile.close()"
   ]
  },
  {
   "cell_type": "code",
   "execution_count": 6,
   "metadata": {},
   "outputs": [],
   "source": [
    "# this is for sms scores\n",
    "\n",
    "datafile = open('./data/sms_scores1.csv', 'r')\n",
    "datareader = csv.reader(datafile, delimiter=',')\n",
    "SMS_scores = {}\n",
    "for row in datareader:\n",
    "    if row[1] != \"\":\n",
    "        SMS_scores[row[0]] = float(row[1])\n",
    "datafile.close()"
   ]
  },
  {
   "cell_type": "code",
   "execution_count": 7,
   "metadata": {},
   "outputs": [],
   "source": [
    "# the previous model simply adds the enrichment scores of each significant hexamer in the set\n",
    "\n",
    "def predictLEI_archaic(preMRNA):\n",
    "    #extract hex sequences from preMRNA\n",
    "    hexs = [preMRNA[i:i+6] for i in range(len(preMRNA)-5)]\n",
    "    #list out significant weighted hex scores\n",
    "    hexLEIs = []\n",
    "    for hexSeq in hexs:\n",
    "        if hexSeq in ESRseq_scores:\n",
    "            hexLEIs.append(ESRseq_scores[hexSeq])\n",
    "    #average the hex scores, the following code will break if you input a sequence with only insignificant hexs\n",
    "    sumScores = sum(hexLEIs)\n",
    "    return(sumScores)\n",
    "\n",
    "def predictLEI_archaic(preMRNA,left_flank,right_flank):\n",
    "    #extract hex sequences from preMRNA\n",
    "    hexs = [preMRNA[i:i+6] for i in range(left_flank,len(preMRNA)-right_flank-5)]\n",
    "    #list out significant weighted hex scores\n",
    "    hexLEIs = []\n",
    "    for hexSeq in hexs:\n",
    "        if hexSeq in ESRseq_scores:\n",
    "            hexLEIs.append(ESRseq_scores[hexSeq])\n",
    "    #average the hex scores, the following code will break if you input a sequence with only insignificant hexs\n",
    "    sumScores = sum(hexLEIs)\n",
    "    return(sumScores)\n",
    "\n",
    "def predictLEI_archaic_sms(preMRNA,left_flank,right_flank):\n",
    "    #extract hex sequences from preMRNA\n",
    "    sevenmers = [preMRNA[i:i+7] for i in range(len(preMRNA)-6)]\n",
    "    #list out significant weighted hex scores\n",
    "    sevenmerLEIs = []\n",
    "    for sevenmer in sevenmers:\n",
    "        if sevenmer in SMS_scores:\n",
    "            sevenmerLEIs.append(SMS_scores[sevenmer])\n",
    "    #average the hex scores, the following code will break if you input a sequence with only insignificant hexs\n",
    "    sumScores = sum(sevenmerLEIs)\n",
    "    return(sumScores)\n",
    "\n",
    "def predictLEI_archaic_sms(preMRNA,left_flank,right_flank):\n",
    "    #extract hex sequences from preMRNA\n",
    "    sevenmers = [preMRNA[i:i+7] for i in range(left_flank,len(preMRNA)-right_flank-6)]\n",
    "    #list out significant weighted hex scores\n",
    "    sevenmerLEIs = []\n",
    "    for sevenmer in sevenmers:\n",
    "        if sevenmer in SMS_scores:\n",
    "            sevenmerLEIs.append(SMS_scores[sevenmer])\n",
    "    #average the hex scores, the following code will break if you input a sequence with only insignificant hexs\n",
    "    sumScores = sum(sevenmerLEIs)\n",
    "    return(sumScores)"
   ]
  },
  {
   "cell_type": "code",
   "execution_count": 9,
   "metadata": {},
   "outputs": [
    {
     "name": "stdout",
     "output_type": "stream",
     "text": [
      "1.2267382\n"
     ]
    }
   ],
   "source": [
    "#demonstration of the model\n",
    "\n",
    "seq = \"GAGUAGUGGAACCAGGCUAUGUUUGUGACUCGCAGACUAACA\"\n",
    "\n",
    "print(predictLEI_archaic(seq,0,0))"
   ]
  },
  {
   "cell_type": "markdown",
   "metadata": {},
   "source": [
    "### Application 1: Valcarcel's paper\n",
    "In a paper by Valcarcel (2016), 189 sequences were observed and had their enrichment indexes measured. With this test set, we can see how our model performs by looking at the correlation between our predictions and his observed values for the log of enrichment index of each sequence."
   ]
  },
  {
   "cell_type": "code",
   "execution_count": 10,
   "metadata": {},
   "outputs": [
    {
     "ename": "TypeError",
     "evalue": "predictLEI_archaic() missing 2 required positional arguments: 'left_flank' and 'right_flank'",
     "output_type": "error",
     "traceback": [
      "\u001b[0;31m---------------------------------------------------------------------------\u001b[0m",
      "\u001b[0;31mTypeError\u001b[0m                                 Traceback (most recent call last)",
      "\u001b[0;32m<ipython-input-10-781bc0c03453>\u001b[0m in \u001b[0;36m<module>\u001b[0;34m\u001b[0m\n\u001b[1;32m     11\u001b[0m \u001b[0;31m# write in our predictments\u001b[0m\u001b[0;34m\u001b[0m\u001b[0;34m\u001b[0m\u001b[0;34m\u001b[0m\u001b[0m\n\u001b[1;32m     12\u001b[0m \u001b[0;32mfor\u001b[0m \u001b[0msequence\u001b[0m \u001b[0;32min\u001b[0m  \u001b[0mvalcarcel_data\u001b[0m\u001b[0;34m:\u001b[0m\u001b[0;34m\u001b[0m\u001b[0;34m\u001b[0m\u001b[0m\n\u001b[0;32m---> 13\u001b[0;31m     \u001b[0mvalcarcel_data\u001b[0m\u001b[0;34m[\u001b[0m\u001b[0msequence\u001b[0m\u001b[0;34m]\u001b[0m\u001b[0;34m[\u001b[0m\u001b[0;36m1\u001b[0m\u001b[0;34m]\u001b[0m \u001b[0;34m=\u001b[0m \u001b[0mpredictLEI_archaic\u001b[0m\u001b[0;34m(\u001b[0m\u001b[0msequence\u001b[0m\u001b[0;34m)\u001b[0m\u001b[0;34m\u001b[0m\u001b[0;34m\u001b[0m\u001b[0m\n\u001b[0m",
      "\u001b[0;31mTypeError\u001b[0m: predictLEI_archaic() missing 2 required positional arguments: 'left_flank' and 'right_flank'"
     ]
    }
   ],
   "source": [
    "# import our data\n",
    "datafile = open('./data/valcarcel_data.csv', 'r')\n",
    "datareader = csv.reader(datafile, delimiter=',')\n",
    "valcarcel_data = {}\n",
    "for row in datareader:\n",
    "    #valcarcel_data[row[0]] = [float(row[1]),0]\n",
    "    #for 2^EI\n",
    "    valcarcel_data[row[0]] = [2**float(row[1]),0]\n",
    "datafile.close()\n",
    "\n",
    "# write in our predictments\n",
    "for sequence in  valcarcel_data:\n",
    "    valcarcel_data[sequence][1] = predictLEI_archaic(sequence)"
   ]
  },
  {
   "cell_type": "code",
   "execution_count": 13,
   "metadata": {},
   "outputs": [
    {
     "name": "stdout",
     "output_type": "stream",
     "text": [
      "r^2 = 0.2863736264350571\n",
      "y = 0.1931773642236244x + 2.24373504624906\n"
     ]
    },
    {
     "data": {
      "image/png": "[encoded data removed]",
      "text/plain": [
       "<Figure size 432x288 with 1 Axes>"
      ]
     },
     "metadata": {
      "needs_background": "light"
     },
     "output_type": "display_data"
    }
   ],
   "source": [
    "x_vals = []\n",
    "y_vals = []\n",
    "for seq in valcarcel_data:\n",
    "    y_vals.append(valcarcel_data[seq][0]) #x is valcarcel's observations\n",
    "    x_vals.append(valcarcel_data[seq][1]) #y is our predictment\n",
    "slope, intercept, r_value, p_value, std_err = stats.linregress(x_vals,y_vals)\n",
    "plt.plot(x_vals,y_vals,'.')\n",
    "abline(slope,intercept)\n",
    "print(\"r^2 = \" + str(r_value**2))\n",
    "print(\"y = \" + str(slope) + \"x + \" + str(intercept))"
   ]
  },
  {
   "cell_type": "markdown",
   "metadata": {},
   "source": [
    "Oof, that's and r^2 value of 0.28. There is some correlation, but not much. There are many reasons why this can be the case, you can argue that the hexamer scores from the ESRseq scores would only be useful for the specific exons they were made from. I want to argue something different. I think that the method of simply adding hexamer scores is not effective. Here's why"
   ]
  },
  {
   "cell_type": "markdown",
   "metadata": {},
   "source": [
    "### Application 2: data from the SMS paper (ok, more like a hook than an application)\n",
    "\n",
    "In this paper (Ke. et.al 2018), a similar model was created but with 7mer scores instead of hexamer scores. 10 variants of an exon were created and 556 of each variant was mutated with a single or double base mutation. Upon graphing predicted 7mer scores against observed 7mer scores for the model, a group of points correlating to a specific variant were seperated from the rest of the points. This variant was also noted in an aalysis of secondary structure. When the correlation between average unpairdness of a 6mer was correlated to the log of the enrichment index, it was found that in the HMA variant, two sites had a high correlation. \n",
    "\n",
    "[insert figure 3A and 5B here]\n",
    "\n",
    "From these results, we think that secondar structure can have an effect on splicing efficiency. If we were to include secondary structure in the past model via the unpairdness of hexamers, we might be able to account for whatever is causing the HMA variant to be deviant from the rest of the graph in figure 1. Additionally, this new feature could improve the model on valcarcel's data."
   ]
  },
  {
   "cell_type": "markdown",
   "metadata": {},
   "source": [
    "## The new model\n",
    "For this new model, we will account for the secondary structure of RNA strands though a measure of availability, which we define as the unpairdness of the bases within a hexamer. Our suspicion is that if bases in a hexamer are strongly bound to other parts of the RNA sequence, then its bases would be less available to RNA binding proteins, making its effect as a motif weaker.\n",
    "\n",
    "In this model, before we add the scores of each hexamer in a sequence, we will multiply the hexamer by a weight correlating to its availability.\n",
    "\n",
    "Thus, for an example, the program would do the following:\n",
    "\n",
    "[insert comic showing the process]\n",
    "\n",
    "One important factor of this model is that we should be able to know large the weights can be based on availability. Since we cannot arbitrarily choose the range of the weights (and expect good results), we need a scale that sets that range. That way, we can test many different ranges for the weights and find the one that produces the best predictive model"
   ]
  },
  {
   "attachments": {
    "linear%20transform.png": {
     "image/png": "[encoded data removed]"
    }
   },
   "cell_type": "markdown",
   "metadata": {},
   "source": [
    "### Explanation of convertion between availability and weight\n",
    "\n",
    "##### Availability: The expected value\n",
    "Here, availability is defined as the expected value of unpaired bases within a hexamer. This is a number between 0 and 6. If a number is a decimal, then that is because that the hexamer has different possibilities for amount of unpaired bases. The expected value is the average of unpaired bases among those structures weighted by each structures frequency. Here is an example:\n",
    "\n",
    "In a hexamer, 50 percent of the time, it has 4 bases unpaired. the other 50 percent of the time, it has no bases unpaired. The expected value of unparied bases is 2.\n",
    "\n",
    "For the MFE, the expected value of unpaired bases in a hexamer is an integer since the MFE represents only one structure\n",
    "\n",
    "#### Scale: translates the availability to the weight\n",
    "I am multiplying the hex score by a weight determined by availability and a scale. To determine how impactful the scale can be, I set the weight betwee a value 1-x and 1+x, where x is the scale. Lets look at a few cases to understand\n",
    "\n",
    "- x is 1, this is the max. The hexamer's effect as a motif is multiplied by a weight between 0 and 2 (corresponding to no and complete availability)\n",
    "- x is 0, this is the min. The hexamer's effect as a motif is not changed and the model reverts to the previous model that does not consider secondary structure. This is the control\n",
    "\n",
    "by setting x to multiple values, we can optimize the model by trial and error.\n",
    "\n",
    "#### The transformation\n",
    "We want an availability of 0 to correspond to 1-x for a weight and an availability of 6 to correspond to 1+x. The following function does that for me.\n",
    "\n",
    "$$\n",
    "weight = f(availability) = 1 + x(\\frac{availability}{3}-1)\n",
    "$$\n",
    "\n",
    "This is what the tranformation (not linear by the way since 0's don't line up) looks like on number lines.\n",
    "\n",
    "![linear%20transform.png](attachment:linear%20transform.png)"
   ]
  },
  {
   "cell_type": "markdown",
   "metadata": {},
   "source": [
    "### Implmentation and demonstration of the model\n",
    "\n",
    "Since we already imported the hex scores in the implementation of the previous model, we will skip that step here."
   ]
  },
  {
   "cell_type": "code",
   "execution_count": 11,
   "metadata": {},
   "outputs": [],
   "source": [
    "#we will define this function where x is the scale for the weights\n",
    "def predictLEI(preRNA, left_flank_length, right_flank_length, scale):\n",
    "    #keep a list of hex scores * scaled availability\n",
    "    newHexScores = []\n",
    "    #mfe as follows, then pc\n",
    "    #folded = RNA.fold(preRNA)[0]\n",
    "    up_probs = return_up(preRNA)\n",
    "    \n",
    "    #print(folded)\n",
    "    for i in range(left_flank_length,len(preRNA)-right_flank_length-5):\n",
    "        if preRNA[i:i+6] in ESRseq_scores:\n",
    "            #the expected value here is dependent on the a single structure (MFE), so it will always be an exact integer\n",
    "            #expected_val_up = folded[i:i+6].count('.')\n",
    "            #with the pc\n",
    "            expected_val_up = sum(up_probs[i:i+6])\n",
    "            #print(\"expected_val_up: \" + str(expected_val_up))\n",
    "            #the following factor scales the expected value\n",
    "            weight = 1 + (scale * ((expected_val_up / 3) - 1))\n",
    "            newHexScores.append(ESRseq_scores[preRNA[i:i+6]] * weight)\n",
    "            #print(\"ESR score: \" + str(ESRseq_scores[preRNA[i:i+6]]) + \" weight: \" + str(weight))\n",
    "    #average the hex scores, the following code will break if you input a sequence with only insignificant hexs\n",
    "    sumScores = sum(newHexScores)\n",
    "    return(sumScores)"
   ]
  },
  {
   "cell_type": "code",
   "execution_count": 12,
   "metadata": {},
   "outputs": [
    {
     "name": "stdout",
     "output_type": "stream",
     "text": [
      "\n",
      "-7.49320388040281\n",
      "-7.54730749\n"
     ]
    }
   ],
   "source": [
    "#demonstration with Valcarcel's wild type\n",
    "full_seq = 'TGTCCAATGTTCCAACCTACAGgatccagatctaacttggggtggctttgtcttcttctt\\\n",
    "ttgccaattccactaattgtttgggGTAAGTTCTTGCTTTGTTCAAA'\n",
    "full_seq = full_seq.upper()\n",
    "\n",
    "print()\n",
    "print(predictLEI(full_seq.upper(),22,22,.1))\n",
    "\n",
    "\n",
    "print(predictLEI('gatccagatctaacttggggtggctttgtcttcttcttttgccaattccactaattgtttggg'.upper(),0,0,0))"
   ]
  },
  {
   "cell_type": "markdown",
   "metadata": {},
   "source": [
    "# Finding the right scale: using HMA variant of WT1 exon in SMS paper"
   ]
  },
  {
   "cell_type": "code",
   "execution_count": 16,
   "metadata": {},
   "outputs": [],
   "source": [
    "#import sequences and EI values\n",
    "datafile = open('./data/sms_hma_results.csv', 'r')\n",
    "datareader = csv.reader(datafile, delimiter=',')\n",
    "hma_data = {}\n",
    "for row in datareader:\n",
    "    #have to add flanks\n",
    "    #row[0] is sequence, row[1] is EI, row[2] is rel EI, row[3] is PUP, row[4] is LEI and row[5] is LEIsc\n",
    "    hma_data[row[0]] = [float(row[4]),0]\n",
    "datafile.close()"
   ]
  },
  {
   "cell_type": "markdown",
   "metadata": {},
   "source": [
    "### Let's test this with a weight of 0, to see the control"
   ]
  },
  {
   "cell_type": "code",
   "execution_count": 20,
   "metadata": {},
   "outputs": [
    {
     "name": "stdout",
     "output_type": "stream",
     "text": [
      "r^2 = 0.47829121435022326\n",
      "y = 1.2264475055967037x + -4.881857153677382\n"
     ]
    },
    {
     "data": {
      "image/png": "[encoded data removed]",
      "text/plain": [
       "<Figure size 432x288 with 1 Axes>"
      ]
     },
     "metadata": {
      "needs_background": "light"
     },
     "output_type": "display_data"
    }
   ],
   "source": [
    "#test this with one scale\n",
    "for sequence in hma_data:\n",
    "    hma_data[sequence][1] = predictLEI(sequence,23,16,0)\n",
    "    # 23 is the length of the left flank and the 16 is the length of the right flank\n",
    "\n",
    "x_vals = []\n",
    "y_vals = []\n",
    "\n",
    "for sequence in hma_data:\n",
    "    x_vals.append(hma_data[sequence][1]) #x is predicted\n",
    "    \n",
    "for sequence in hma_data:\n",
    "    y_vals.append(hma_data[sequence][0]) #y is observed\n",
    "    \n",
    "slope, intercept, r_value, p_value, std_err = stats.linregress(x_vals,y_vals)\n",
    "plt.plot(x_vals,y_vals,'.')\n",
    "plt.xlabel(\"predicted LEI\")\n",
    "plt.ylabel(\"observed LEI\")\n",
    "abline(slope,intercept)\n",
    "print(\"r^2 = \" + str(r_value**2))\n",
    "print(\"y = \" + str(slope) + \"x + \" + str(intercept))"
   ]
  },
  {
   "cell_type": "markdown",
   "metadata": {},
   "source": [
    "### Ok, while we are at it, let's look for the r^2 = .84 result. I assume it will be a little smaller since I am using ESR scores and not SMS scores\n",
    "\n",
    "The orange points are HMA. I guess I wasn't able to replicate the results"
   ]
  },
  {
   "cell_type": "code",
   "execution_count": 27,
   "metadata": {},
   "outputs": [
    {
     "name": "stdout",
     "output_type": "stream",
     "text": [
      "r^2 = 0.8088928266641605\n",
      "y = 1.2960232571345567x + -8.74789831657618\n"
     ]
    },
    {
     "data": {
      "image/png": "[encoded data removed]",
      "text/plain": [
       "<Figure size 432x288 with 1 Axes>"
      ]
     },
     "metadata": {
      "needs_background": "light"
     },
     "output_type": "display_data"
    }
   ],
   "source": [
    "datafile = open('./data/sms_all_results.csv', 'r')\n",
    "datareader = csv.reader(datafile, delimiter=',')\n",
    "all_data = {}\n",
    "hma_data = {}\n",
    "rest_data = {}\n",
    "i = 0\n",
    "for row in datareader:\n",
    "    #have to add flanks\n",
    "    #row[0] is sequence, row[1] is EI, row[2] is rel EI, row[3] is PUP, row[4] is LEI and row[5] is LEIsc\n",
    "    if i < 557:\n",
    "        hma_data[row[0]] = [float(row[4]),0]\n",
    "    else:\n",
    "        rest_data[row[0]] = [float(row[4]),0]\n",
    "    i = i+1\n",
    "    all_data[row[0]] = [float(row[4]),0]\n",
    "datafile.close()\n",
    "\n",
    "for sequence in all_data:\n",
    "    all_data[sequence][1] = predictLEI_archaic_sms(sequence,23,16)\n",
    "    # 23 is the length of the left flank and the 16 is the length of the right flank\n",
    "\n",
    "for sequence in hma_data:\n",
    "    hma_data[sequence][1] = predictLEI_archaic_sms(sequence,23,16)\n",
    "    \n",
    "for sequence in rest_data:\n",
    "    rest_data[sequence][1] = predictLEI_archaic_sms(sequence,23,16)\n",
    "    \n",
    "x_vals = []\n",
    "y_vals = []\n",
    "\n",
    "#for the calculation of r^2 and line of best fit\n",
    "for sequence in all_data:\n",
    "    x_vals.append(all_data[sequence][1]) #x is predicted\n",
    "for sequence in all_data:\n",
    "    y_vals.append(all_data[sequence][0]) #y is observed\n",
    "slope, intercept, r_value, p_value, std_err = stats.linregress(x_vals,y_vals)\n",
    "\n",
    "#other points\n",
    "x_vals = []\n",
    "y_vals = []\n",
    "for sequence in rest_data:\n",
    "    x_vals.append(rest_data[sequence][1]) #x is predicted\n",
    "for sequence in rest_data:\n",
    "    y_vals.append(rest_data[sequence][0]) #y is observed\n",
    "plt.plot(x_vals,y_vals,'.')\n",
    "\n",
    "#hma points\n",
    "x_vals = []\n",
    "y_vals = []\n",
    "for sequence in hma_data:\n",
    "    x_vals.append(hma_data[sequence][1]) #x is predicted\n",
    "for sequence in hma_data:\n",
    "    y_vals.append(hma_data[sequence][0]) #y is observed\n",
    "plt.plot(x_vals,y_vals,'.')\n",
    "\n",
    "# rest of plot and equation\n",
    "plt.xlabel(\"predicted LEI\")\n",
    "plt.ylabel(\"observed LEI\")\n",
    "abline(slope,intercept)\n",
    "print(\"r^2 = \" + str(r_value**2))\n",
    "print(\"y = \" + str(slope) + \"x + \" + str(intercept))"
   ]
  },
  {
   "cell_type": "markdown",
   "metadata": {},
   "source": [
    "### Ok, now let's do this for many weights and find the best scale."
   ]
  },
  {
   "cell_type": "code",
   "execution_count": 13,
   "metadata": {},
   "outputs": [],
   "source": [
    "#data is a dictionary with sequences for keys and [observed,0] for values\n",
    "def plot_scale_performance(data,left_flank_length, right_flank_length):\n",
    "    y_vals = []\n",
    "    x_vals = []\n",
    "    scale_performance = []\n",
    "    #following loop will take a few minutes\n",
    "    for x in range(-20,51):\n",
    "        for sequence in  data:\n",
    "            data[sequence][1] = predictLEI(sequence,left_flank_length,right_flank_length,x/50)\n",
    "        for seq in data:\n",
    "            y_vals.append(data[seq][0]) # y is observed\n",
    "            x_vals.append(data[seq][1]) # x is predicted\n",
    "        slope, intercept, r_value, p_value, std_err = stats.linregress(x_vals,y_vals)\n",
    "        scale_performance.append([x/50, r_value**2])\n",
    "        x_vals = []\n",
    "        y_vals = []\n",
    "    plt.plot([item[0] for item in scale_performance],[item[1] for item in scale_performance],'.')\n",
    "    slope, intercept, r_value, p_value, std_err = stats.linregress([item[0] for item in scale_performance],\\\n",
    "                                                                   [item[1] for item in scale_performance])\n",
    "    plt.xlabel(\"scale\")\n",
    "    plt.ylabel(\"performance: r^2 of observed v. predicted\")\n",
    "    abline(slope,intercept)\n",
    "    plt.axvline(x=0)\n",
    "    print(\"r^2 = \" + str(r_value**2))\n",
    "    print(\"y = \" + str(slope) + \"x + \" + str(intercept))\n",
    "    return(scale_performance)\n",
    "#scale_performance is a list of [scale, r^2 performance]"
   ]
  },
  {
   "cell_type": "code",
   "execution_count": 17,
   "metadata": {},
   "outputs": [
    {
     "name": "stdout",
     "output_type": "stream",
     "text": [
      "r^2 = 0.9688838705752548\n",
      "y = -0.2329664208520455x + 0.46855197876059096\n"
     ]
    },
    {
     "data": {
      "image/png": "[encoded data removed]",
      "text/plain": [
       "<Figure size 432x288 with 1 Axes>"
      ]
     },
     "metadata": {
      "needs_background": "light"
     },
     "output_type": "display_data"
    }
   ],
   "source": [
    "sms_demonstration = plot_scale_performance(hma_data, 23,16)"
   ]
  },
  {
   "cell_type": "code",
   "execution_count": 104,
   "metadata": {},
   "outputs": [
    {
     "name": "stdout",
     "output_type": "stream",
     "text": [
      "137.25020829999994\n"
     ]
    }
   ],
   "source": [
    "start = timer()\n",
    "\n",
    "scale_performance = []\n",
    "\n",
    "#y doesn't change so let's do that first\n",
    "y_vals = []\n",
    "x_vals = []\n",
    "\n",
    "for x in range(-20,51):\n",
    "    for sequence in  hma_data:\n",
    "        hma_data[sequence][1] = predictLEI(sequence,23,16,x/50)\n",
    "    for seq in hma_data:\n",
    "        y_vals.append(hma_data[seq][0]) # y is observed\n",
    "        x_vals.append(hma_data[seq][1]) # x is predicted\n",
    "    slope, intercept, r_value, p_value, std_err = stats.linregress(x_vals,y_vals)\n",
    "    scale_performance.append([x/50, r_value**2])\n",
    "    x_vals = []\n",
    "    y_vals = []\n",
    "    \n",
    "end = timer()\n",
    "print(end - start)"
   ]
  },
  {
   "cell_type": "code",
   "execution_count": 114,
   "metadata": {},
   "outputs": [
    {
     "name": "stdout",
     "output_type": "stream",
     "text": [
      "r^2 = 0.9484175340495615\n",
      "y = -0.31215865889625083x + 0.4565186175266532\n"
     ]
    },
    {
     "data": {
      "image/png": "[encoded data removed]",
      "text/plain": [
       "<Figure size 432x288 with 1 Axes>"
      ]
     },
     "metadata": {
      "needs_background": "light"
     },
     "output_type": "display_data"
    }
   ],
   "source": [
    "plt.plot([item[0] for item in scale_performance],[item[1] for item in scale_performance],'.')\n",
    "slope, intercept, r_value, p_value, std_err = stats.linregress([item[0] for item in scale_performance],[item[1] for item in scale_performance])\n",
    "plt.xlabel(\"scale\")\n",
    "plt.ylabel(\"performance: r^2 of observed v. predicted\")\n",
    "abline(slope,intercept)\n",
    "print(\"r^2 = \" + str(r_value**2))\n",
    "print(\"y = \" + str(slope) + \"x + \" + str(intercept))"
   ]
  },
  {
   "cell_type": "markdown",
   "metadata": {},
   "source": [
    "Ok, takeaway: making the scale bigger just makes the model worse. And this is when I fit the test data against the data used to make the model (so it doesn't even overfit). This is the worst possible outcome. I think Though the fact that it get's better as we go negative is odd. (That doesn't happen for valcarcel's data)"
   ]
  },
  {
   "cell_type": "markdown",
   "metadata": {},
   "source": [
    "# Takeaways as of 6/25\n",
    "So first, this doesn't look to optimistic. I can't get better correlation against the HMA data even when I fit the model with the HMA data. But there is still to try out\n",
    "- the partition function\n",
    "- what is the upstream and downstream arm? are we not measuring the splicing of all of it?\n",
    "- Look into how what values are added. Why are we using LEI values? It makes since since it emphasizes small and large EI values alike, but in that case, we can also try PUP or relative EI.\n",
    "- Should we be adding scores? I think we should do something like a assymptotic curve to account for the >100 percent splicing. For example, if 2 motifs applies 50 percent better splicing, then the combined strength is 75 percent splicing.\n",
    "\n",
    "On the side I want to improve this documentation to\n",
    "- thoroughly explain the background\n",
    "- have a table of contents\n",
    "- modularize code to remove redundancy as I apply these techniques to multiple data sets.\n",
    "\n",
    "\n",
    "1. Add partition part\n",
    "2. Apply model to subset of sms data that corresponds to mutations within SL6 (27 - 49)"
   ]
  },
  {
   "cell_type": "markdown",
   "metadata": {},
   "source": [
    "## Now, we use this model on valcarcel's data."
   ]
  },
  {
   "cell_type": "code",
   "execution_count": 13,
   "metadata": {},
   "outputs": [],
   "source": [
    "# import our data\n",
    "datafile = open('./data/valcarcel_data.csv', 'r')\n",
    "datareader = csv.reader(datafile, delimiter=',')\n",
    "valcarcel_data = {}\n",
    "for row in datareader:\n",
    "    #have to add flanks\n",
    "    valcarcel_data['TGTCCAATGTTCCAACCTACAG' + row[0] + 'GTAAGTTCTTGCTTTGTTCAAA'] = [2**float(row[1]),0]\n",
    "datafile.close()\n",
    "# write in our predictments"
   ]
  },
  {
   "cell_type": "code",
   "execution_count": 14,
   "metadata": {},
   "outputs": [
    {
     "name": "stdout",
     "output_type": "stream",
     "text": [
      "r^2 = 0.19527304677323368\n",
      "y = 0.015548111274674524x + 0.2765789419184932\n"
     ]
    },
    {
     "data": {
      "image/png": "[encoded data removed]",
      "text/plain": [
       "<Figure size 432x288 with 1 Axes>"
      ]
     },
     "metadata": {
      "needs_background": "light"
     },
     "output_type": "display_data"
    }
   ],
   "source": [
    "valcarcel_demonstration = plot_scale_performance(valcarcel_data,22,22)"
   ]
  },
  {
   "cell_type": "code",
   "execution_count": 113,
   "metadata": {},
   "outputs": [
    {
     "name": "stdout",
     "output_type": "stream",
     "text": [
      "r^2 = 0.2863736264350571\n",
      "y = 0.1931773642236244x + 2.24373504624906\n"
     ]
    },
    {
     "data": {
      "image/png": "[encoded data removed]",
      "text/plain": [
       "<Figure size 432x288 with 1 Axes>"
      ]
     },
     "metadata": {
      "needs_background": "light"
     },
     "output_type": "display_data"
    }
   ],
   "source": [
    "#graph data\n",
    "def abline(slope, intercept):\n",
    "    axes = plt.gca()\n",
    "    x_vals = np.array(axes.get_xlim())\n",
    "    y_vals = intercept + slope * x_vals\n",
    "    plt.plot(x_vals, y_vals, '--')\n",
    "\n",
    "x_vals = []\n",
    "y_vals = []\n",
    "for seq in valcarcel_data:\n",
    "    y_vals.append(valcarcel_data[seq][0]) #y is valcarcel's observations\n",
    "    x_vals.append(valcarcel_data[seq][1]) #x is predictions\n",
    "slope, intercept, r_value, p_value, std_err = stats.linregress(x_vals,y_vals)\n",
    "plt.plot(x_vals,y_vals,'.')\n",
    "abline(slope,intercept)\n",
    "print(\"r^2 = \" + str(r_value**2))\n",
    "print(\"y = \" + str(slope) + \"x + \" + str(intercept))"
   ]
  },
  {
   "cell_type": "code",
   "execution_count": 58,
   "metadata": {},
   "outputs": [
    {
     "name": "stdout",
     "output_type": "stream",
     "text": [
      "5.601586499999939\n"
     ]
    }
   ],
   "source": [
    "# system for trying many x values\n",
    "\n",
    "start = timer()\n",
    "\n",
    "# import our data\n",
    "datafile = open('./data/valcarcel_data.csv', 'r')\n",
    "datareader = csv.reader(datafile, delimiter=',')\n",
    "valcarcel_data = {}\n",
    "for row in datareader:\n",
    "    #have to add flanks\n",
    "    valcarcel_data['TGTCCAATGTTCCAACCTACAG' + row[0] + 'GTAAGTTCTTGCTTTGTTCAAA'] = [2**float(row[1]),0]\n",
    "datafile.close()\n",
    "\n",
    "\n",
    "x_vals = []\n",
    "y_vals = []\n",
    "scale_performace = {}\n",
    "for x in range(0,6):\n",
    "    for sequence in  valcarcel_data:\n",
    "        valcarcel_data[sequence][1] = predictLEI(sequence,22,x/5)\n",
    "    for seq in valcarcel_data:\n",
    "        y_vals.append(valcarcel_data[seq][0]) #x is valcarcel's observations\n",
    "        x_vals.append(valcarcel_data[seq][1]) #y is our predictment\n",
    "    slope, intercept, r_value, p_value, std_err = stats.linregress(x_vals,y_vals)\n",
    "    scale_performace[x/5] = r_value**2\n",
    "    x_vals = []\n",
    "    y_vals = []\n",
    "    \n",
    "    \n",
    "end = timer()\n",
    "print(end - start)"
   ]
  },
  {
   "cell_type": "code",
   "execution_count": null,
   "metadata": {},
   "outputs": [],
   "source": [
    "# for the future\n",
    "\n",
    "# seqfc = RNA.fold_compound(seq)\n",
    " \n",
    "# md = RNA.md()\n",
    "# md.computebpp = 1\n",
    "# fc = RNA.fold_compound(seq, md)\n",
    "# print(fc.probs_window(fc, 20, PROBS_WINDOW_UP))\n"
   ]
  }
 ],
 "metadata": {
  "kernelspec": {
   "display_name": "Python 3",
   "language": "python",
   "name": "python3"
  },
  "language_info": {
   "codemirror_mode": {
    "name": "ipython",
    "version": 3
   },
   "file_extension": ".py",
   "mimetype": "text/x-python",
   "name": "python",
   "nbconvert_exporter": "python",
   "pygments_lexer": "ipython3",
   "version": "3.7.6"
  }
 },
 "nbformat": 4,
 "nbformat_minor": 4
}
