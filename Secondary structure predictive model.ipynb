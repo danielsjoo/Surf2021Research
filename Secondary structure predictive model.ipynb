{
 "cells": [
  {
   "cell_type": "code",
   "execution_count": 1,
   "metadata": {},
   "outputs": [],
   "source": [
    "import csv\n",
    "import matplotlib.pyplot as plt\n",
    "import numpy as np\n",
    "from scipy import stats\n",
    "import RNA\n",
    "from timeit import default_timer as timer\n",
    "import random"
   ]
  },
  {
   "cell_type": "code",
   "execution_count": 2,
   "metadata": {},
   "outputs": [],
   "source": [
    "def abline(slope, intercept):\n",
    "    axes = plt.gca()\n",
    "    x_vals = np.array(axes.get_xlim())\n",
    "    y_vals = intercept + slope * x_vals\n",
    "    plt.plot(x_vals, y_vals, '--')"
   ]
  },
  {
   "cell_type": "code",
   "execution_count": 3,
   "metadata": {},
   "outputs": [],
   "source": [
    "from return_up import return_up\n",
    "from return_sig_positions import return_sig_positions"
   ]
  },
  {
   "cell_type": "code",
   "execution_count": 4,
   "metadata": {
    "scrolled": true
   },
   "outputs": [
    {
     "name": "stdout",
     "output_type": "stream",
     "text": [
      "-24.200000762939453\n",
      "-14.0\n",
      "-14.0\n",
      "-14.0\n",
      "-14.0\n",
      "-13.399999618530273\n",
      "-13.399999618530273\n",
      "-14.199999809265137\n",
      "-14.199999809265137\n",
      "-14.199999809265137\n",
      "-14.899999618530273\n",
      "-15.800000190734863\n",
      "-15.300000190734863\n",
      "-15.899999618530273\n",
      "-17.100000381469727\n",
      "-17.100000381469727\n",
      "-17.200000762939453\n",
      "-15.199999809265137\n",
      "-11.699999809265137\n",
      "-11.199999809265137\n",
      "-11.199999809265137\n",
      "-12.300000190734863\n",
      "-13.899999618530273\n",
      "-13.899999618530273\n",
      "-13.800000190734863\n",
      "-13.800000190734863\n",
      "-12.100000381469727\n",
      "-12.100000381469727\n",
      "-12.300000190734863\n",
      "-12.300000190734863\n",
      "-12.5\n",
      "-14.0\n",
      "-17.100000381469727\n",
      "-14.0\n",
      "-12.5\n",
      "-12.300000190734863\n",
      "-12.300000190734863\n",
      "-12.300000190734863\n",
      "-12.899999618530273\n",
      "-14.600000381469727\n",
      "-14.600000381469727\n",
      "-14.600000381469727\n",
      "-17.299999237060547\n",
      "-17.299999237060547\n",
      "-17.299999237060547\n",
      "-17.299999237060547\n",
      "-17.5\n",
      "-18.0\n",
      "-18.0\n",
      "-17.299999237060547\n",
      "-17.899999618530273\n",
      "-16.799999237060547\n",
      "-16.799999237060547\n",
      "-16.799999237060547\n",
      "-16.200000762939453\n",
      "-16.200000762939453\n",
      "-15.800000190734863\n",
      "-15.800000190734863\n",
      "-15.800000190734863\n",
      "-15.399999618530273\n",
      "-15.399999618530273\n",
      "-15.399999618530273\n",
      "-15.399999618530273\n",
      "-15.399999618530273\n",
      "-15.399999618530273\n",
      "-16.899999618530273\n",
      "-17.399999618530273\n",
      "-19.200000762939453\n",
      "-19.200000762939453\n",
      "-19.200000762939453\n",
      "-19.200000762939453\n",
      "-19.200000762939453\n",
      "-20.399999618530273\n",
      "-20.399999618530273\n",
      "-20.399999618530273\n",
      "-20.399999618530273\n",
      "0.0\n",
      "0.0\n",
      "0.0\n",
      "0.0\n",
      "0.0\n",
      "0.0\n",
      "0.0\n",
      "0.0\n",
      "0.0\n",
      "0.0\n",
      "0.0\n",
      "0.0\n",
      "0.0\n",
      "0.0\n",
      "-24.200000762939453\n",
      "0\n",
      "1\n",
      "2\n",
      "3\n",
      "4\n",
      "5\n",
      "6\n",
      "7\n",
      "8\n",
      "9\n",
      "10\n",
      "11\n",
      "12\n",
      "13\n",
      "14\n",
      "15\n",
      "16\n",
      "17\n",
      "18\n",
      "19\n",
      "20\n",
      "21\n",
      "22\n",
      "23\n",
      "24\n",
      "25\n",
      "26\n",
      "27\n",
      "28\n",
      "29\n",
      "30\n",
      "31\n",
      "32\n",
      "33\n",
      "34\n",
      "35\n",
      "36\n",
      "37\n",
      "38\n",
      "39\n",
      "40\n",
      "41\n",
      "42\n",
      "43\n",
      "44\n",
      "45\n",
      "46\n",
      "47\n",
      "48\n",
      "49\n",
      "50\n",
      "51\n",
      "52\n",
      "53\n",
      "54\n",
      "55\n",
      "56\n",
      "57\n",
      "58\n",
      "59\n",
      "60\n",
      "61\n",
      "62\n",
      "63\n",
      "64\n",
      "65\n",
      "66\n",
      "67\n",
      "68\n",
      "69\n",
      "70\n",
      "71\n",
      "72\n",
      "73\n",
      "74\n",
      "75\n"
     ]
    }
   ],
   "source": [
    "x = return_sig_positions(\"CCCCACCTCTTCTTCTTTTCTAGAGTTGCTGCTGGGAGCTCCAGCACAGTGAAATGGACAGAAGGGCAGAGCAAGTGAGTGGACAATGCG\")\n",
    "print(x[89])\n",
    "for i in x:\n",
    "    print(i)\n",
    "\n",
    "for i in range (0,76):\n",
    "    a = \"\"\n",
    "    for b in range(0,i):\n",
    "        a = a+\".\"\n",
    "    for b in range(i,i+15):\n",
    "        a = a+\"x\";\n",
    "    for b in range(i+15,90):\n",
    "        a = a+\".\";\n",
    "    print (i)\n"
   ]
  },
  {
   "cell_type": "code",
   "execution_count": 5,
   "metadata": {},
   "outputs": [
    {
     "ename": "NameError",
     "evalue": "name 'hma_data' is not defined",
     "output_type": "error",
     "traceback": [
      "\u001b[0;31m---------------------------------------------------------------------------\u001b[0m",
      "\u001b[0;31mNameError\u001b[0m                                 Traceback (most recent call last)",
      "\u001b[0;32m<ipython-input-5-828b6b9ba731>\u001b[0m in \u001b[0;36m<module>\u001b[0;34m\u001b[0m\n\u001b[1;32m      6\u001b[0m \u001b[0;34m\u001b[0m\u001b[0m\n\u001b[1;32m      7\u001b[0m \u001b[0;32mfor\u001b[0m \u001b[0mi\u001b[0m \u001b[0;32min\u001b[0m \u001b[0mrange\u001b[0m\u001b[0;34m(\u001b[0m\u001b[0;36m1\u001b[0m\u001b[0;34m,\u001b[0m\u001b[0;36m74\u001b[0m\u001b[0;34m)\u001b[0m\u001b[0;34m:\u001b[0m\u001b[0;34m\u001b[0m\u001b[0;34m\u001b[0m\u001b[0m\n\u001b[0;32m----> 8\u001b[0;31m     \u001b[0;32mfor\u001b[0m \u001b[0msequence\u001b[0m \u001b[0;32min\u001b[0m \u001b[0mhma_data\u001b[0m\u001b[0;34m:\u001b[0m\u001b[0;34m\u001b[0m\u001b[0;34m\u001b[0m\u001b[0m\n\u001b[0m\u001b[1;32m      9\u001b[0m         \u001b[0ma\u001b[0m \u001b[0;34m=\u001b[0m \u001b[0mreturn_sig_positions\u001b[0m\u001b[0;34m(\u001b[0m\u001b[0msequence\u001b[0m\u001b[0;34m)\u001b[0m\u001b[0;34m\u001b[0m\u001b[0;34m\u001b[0m\u001b[0m\n\u001b[1;32m     10\u001b[0m         \u001b[0mdeltadeltaG\u001b[0m \u001b[0;34m=\u001b[0m \u001b[0ma\u001b[0m\u001b[0;34m[\u001b[0m\u001b[0mi\u001b[0m\u001b[0;34m]\u001b[0m\u001b[0;34m-\u001b[0m\u001b[0ma\u001b[0m\u001b[0;34m[\u001b[0m\u001b[0;36m89\u001b[0m\u001b[0;34m]\u001b[0m\u001b[0;34m\u001b[0m\u001b[0;34m\u001b[0m\u001b[0m\n",
      "\u001b[0;31mNameError\u001b[0m: name 'hma_data' is not defined"
     ]
    }
   ],
   "source": [
    "#import csv and hma\n",
    "start = timer()\n",
    "\n",
    "rsquared=[]\n",
    "position=[]\n",
    "\n",
    "for i in range(1,74):\n",
    "    for sequence in hma_data:\n",
    "        a = return_sig_positions(sequence)\n",
    "        deltadeltaG = a[i]-a[89]\n",
    "        hma_data[sequence][1] = deltadeltaG\n",
    "    x_vals = []\n",
    "    y_vals = []\n",
    "\n",
    "    for sequence in hma_data:\n",
    "        x_vals.append(hma_data[sequence][1]) #x is predicted\n",
    "\n",
    "    for sequence in hma_data:\n",
    "        y_vals.append(hma_data[sequence][0]) #y is observed\n",
    "\n",
    "    slope, intercept, r_value, p_value, std_err = stats.linregress(x_vals,y_vals)\n",
    "    rsquared.append(r_value**2)\n",
    "    position.append(i)\n",
    "    \n",
    "    \n",
    "plt.plot(position,rsquared,'.')\n",
    "plt.xlabel(\"position of 15mer (start)\")\n",
    "plt.ylabel(\"r^2 correlation between contribution and observed LEI (HMA)\")\n",
    "plt.title(\"significance of each position\")\n",
    "print(\"r^2 = \" + str(r_value**2))\n",
    "end = timer()\n",
    "print(end - start)\n"
   ]
  },
  {
   "cell_type": "code",
   "execution_count": 6,
   "metadata": {},
   "outputs": [
    {
     "ename": "NameError",
     "evalue": "name 'hma_data' is not defined",
     "output_type": "error",
     "traceback": [
      "\u001b[0;31m---------------------------------------------------------------------------\u001b[0m",
      "\u001b[0;31mNameError\u001b[0m                                 Traceback (most recent call last)",
      "\u001b[0;32m<ipython-input-6-e7cf3fe07374>\u001b[0m in \u001b[0;36m<module>\u001b[0;34m\u001b[0m\n\u001b[0;32m----> 1\u001b[0;31m \u001b[0;32mfor\u001b[0m \u001b[0msequence\u001b[0m \u001b[0;32min\u001b[0m \u001b[0mhma_data\u001b[0m\u001b[0;34m:\u001b[0m\u001b[0;34m\u001b[0m\u001b[0;34m\u001b[0m\u001b[0m\n\u001b[0m\u001b[1;32m      2\u001b[0m     \u001b[0mprint\u001b[0m\u001b[0;34m(\u001b[0m\u001b[0mround\u001b[0m\u001b[0;34m(\u001b[0m\u001b[0mhma_data\u001b[0m\u001b[0;34m[\u001b[0m\u001b[0msequence\u001b[0m\u001b[0;34m]\u001b[0m\u001b[0;34m[\u001b[0m\u001b[0;36m1\u001b[0m\u001b[0;34m]\u001b[0m\u001b[0;34m,\u001b[0m\u001b[0;36m3\u001b[0m\u001b[0;34m)\u001b[0m\u001b[0;34m)\u001b[0m\u001b[0;34m\u001b[0m\u001b[0;34m\u001b[0m\u001b[0m\n\u001b[1;32m      3\u001b[0m \u001b[0;34m\u001b[0m\u001b[0m\n\u001b[1;32m      4\u001b[0m \u001b[0mvert_lines\u001b[0m \u001b[0;34m=\u001b[0m \u001b[0;34m{\u001b[0m\u001b[0;34m}\u001b[0m\u001b[0;34m\u001b[0m\u001b[0;34m\u001b[0m\u001b[0m\n\u001b[1;32m      5\u001b[0m \u001b[0;32mfor\u001b[0m \u001b[0msequence\u001b[0m \u001b[0;32min\u001b[0m \u001b[0mhma_data\u001b[0m\u001b[0;34m:\u001b[0m\u001b[0;34m\u001b[0m\u001b[0;34m\u001b[0m\u001b[0m\n",
      "\u001b[0;31mNameError\u001b[0m: name 'hma_data' is not defined"
     ]
    }
   ],
   "source": [
    " for sequence in hma_data:\n",
    "     print(round(hma_data[sequence][1],3))\n",
    "    \n",
    "vert_lines = {}\n",
    "for sequence in hma_data:\n",
    "    if round(hma_data[sequence][1],3) in vert_lines.keys():\n",
    "        vert_lines[round(hma_data[sequence][1],2)].append(sequence)\n",
    "    else:\n",
    "        vert_lines[round(hma_data[sequence][1],2)] = [sequence]\n",
    "\n",
    "for sequence in vert_lines[7.1]:\n",
    "    (ss,mfe)=RNA.fold(sequence)\n",
    "    print(ss[30:45])"
   ]
  },
  {
   "cell_type": "code",
   "execution_count": 20,
   "metadata": {},
   "outputs": [
    {
     "name": "stdout",
     "output_type": "stream",
     "text": [
      "r^2 = 0.2859738250476129\n",
      "y = -0.4464486800907249x + 1.8831371711380136\n"
     ]
    },
    {
     "data": {
      "image/png": "[encoded data removed]",
      "text/plain": [
       "<Figure size 432x288 with 1 Axes>"
      ]
     },
     "metadata": {
      "needs_background": "light"
     },
     "output_type": "display_data"
    }
   ],
   "source": [
    "vert_lines = {}\n",
    "for sequence in hma_data:\n",
    "    if round(hma_data[sequence][1],3) in vert_lines.keys():\n",
    "        vert_lines[round(hma_data[sequence][1],2)].append(hma_data[sequence][0])\n",
    "    else:\n",
    "        vert_lines[round(hma_data[sequence][1],2)] = [hma_data[sequence][0]]\n",
    "        \n",
    "x_vals = [];\n",
    "y_vals = [];\n",
    "for a in vert_lines:\n",
    "    x_vals.append(a)\n",
    "    y_vals.append(sum(vert_lines[a])/len(vert_lines[a]))\n",
    "    \n",
    "slope, intercept, r_value, p_value, std_err = stats.linregress(x_vals,y_vals)\n",
    "plt.plot(x_vals,y_vals,'.')\n",
    "plt.xlabel(\"contribution of 15mer region (delta delta G)\")\n",
    "plt.ylabel(\"observed LEI of the mean of each structure\")\n",
    "plt.title(\"observed LEI against contribution of 31-45 region\")\n",
    "abline(slope,intercept)\n",
    "print(\"r^2 = \" + str(r_value**2))\n",
    "print(\"y = \" + str(slope) + \"x + \" + str(intercept))"
   ]
  },
  {
   "cell_type": "markdown",
   "metadata": {},
   "source": [
    "## Let's try another attempt: Let's see if we can associate LEI with changes in structure\n",
    "So how will we do it?\n",
    "We currently have LEIs correlated with mutations. To balance out the effect of the primary structure modifications, we would average out the LEIs of the mutations within a certain 15mer (since that is the length of the stem loop) and also find the mutations average affect on the mfe. For each 15mer, we will graph this effect."
   ]
  },
  {
   "cell_type": "code",
   "execution_count": 4,
   "metadata": {},
   "outputs": [],
   "source": [
    "#import HMA\n",
    "datafile = open('./data/sms_hma_results.csv', 'r')\n",
    "datareader = csv.reader(datafile, delimiter=',')\n",
    "hma_data = {}\n",
    "for row in datareader:\n",
    "    #have to add flanks\n",
    "    #row[0] is sequence, row[1] is EI, row[2] is rel EI, row[3] is PUP, row[4] is LEI and row[5] is LEIsc\n",
    "    hma_data[row[0]] = [float(row[4]),0]\n",
    "datafile.close()"
   ]
  },
  {
   "cell_type": "code",
   "execution_count": 75,
   "metadata": {},
   "outputs": [],
   "source": [
    "def ifcommonelement(a,b):\n",
    "    for i in a:\n",
    "        for j in b:\n",
    "            if i==j:\n",
    "                return True\n",
    "    return False\n",
    "\n",
    "wild_type_mfe = -24.2\n",
    "wild_type = 'CCCCACCTCTTCTTCTTTTCTAGAGTTGCTGCTGGGAGCTCCAGCACAGTGAAATGGACAGAAGGGCAGAGCAAGTGAGTGGACAATGCG'\n",
    "for sequence in hma_data:\n",
    "    (ss,mutated_mfe) = RNA.fold(sequence)\n",
    "    hma_data[sequence][1] = mutated_mfe - wild_type_mfe #delta delta g\n",
    "grouped_muts = {}\n",
    "flag = 0\n",
    "for i in range (1,77):\n",
    "    grouped_muts[i] = [[],[],[a for a in range(i,i+15)]] #0 will have leis and 1 will have deltadelta g\n",
    "# for i in range (1,87):\n",
    "#     grouped_muts[i] = [[],[],[a for a in range(i,i+5)]] #0 will have leis and 1 will have deltadelta g\n",
    "for sequence in hma_data:\n",
    "#     for i in [a for a in range(len(sequence)) if sequence[a] != wild_type[a][0]]: #loops through positions of mutations\n",
    "#         print(i)\n",
    "    for j in grouped_muts:\n",
    "        if ifcommonelement([a for a in range(len(sequence)) if sequence[a] != wild_type[a][0]],grouped_muts[j][2]):\n",
    "            grouped_muts[j][0].append(hma_data[sequence][0]) #adding LEIs\n",
    "            grouped_muts[j][1].append(hma_data[sequence][1]) #adding delta delta g\n",
    "#             if j == 30:\n",
    "#                 print(str([a for a in range(len(sequence)) if sequence[a] != wild_type[a][0]]) + \": \" + str(grouped_muts[j][2]))\n",
    "# print(len(grouped_muts[50][1]))"
   ]
  },
  {
   "cell_type": "code",
   "execution_count": 79,
   "metadata": {},
   "outputs": [
    {
     "name": "stdout",
     "output_type": "stream",
     "text": [
      "[0.4003224761333702, 0.28788209473355486, 0.23391191538467276, 0.18660115870834904, 0.19972285551309565, 0.16042795033634777, 0.10220173971832697, 0.11884368931460226, 0.3394202517634744, 0.3544002023830038, 0.06471545005350103, 0.16825056955837026, 0.3146419906814439, 0.2885282214300101, 0.18661576714346031, 0.12686434742041408, 0.004843652021131933, 0.2033311121019817, 0.14957629314380136, 0.1674751638411127, 0.4548300993034563, 0.03947354299098308, 0.03254038842946452, 0.1850736577678663, 0.15796744129330667, 0.004361944132614871, 0.4143025411277153, 0.2860539370543946, 0.2539964731996255, 0.284989994359101]\n",
      "average: 0.20573889736808512\n"
     ]
    }
   ],
   "source": [
    "r_squared_values = []\n",
    "for u in range(0,30):\n",
    "    #import HMA\n",
    "    datafile = open('./data/sms_hma_results.csv', 'r')\n",
    "    datareader = csv.reader(datafile, delimiter=',')\n",
    "    hma_data = {}\n",
    "    for row in datareader:\n",
    "        #have to add flanks\n",
    "        #row[0] is sequence, row[1] is EI, row[2] is rel EI, row[3] is PUP, row[4] is LEI and row[5] is LEIsc\n",
    "        hma_data[row[0]] = [float(row[4]),0]\n",
    "    datafile.close()\n",
    "\n",
    "    def ifcommonelement(a,b):\n",
    "        for i in a:\n",
    "            for j in b:\n",
    "                if i==j:\n",
    "                    return True\n",
    "        return False\n",
    "\n",
    "    wild_type_mfe = -24.2\n",
    "    wild_type = 'CCCCACCTCTTCTTCTTTTCTAGAGTTGCTGCTGGGAGCTCCAGCACAGTGAAATGGACAGAAGGGCAGAGCAAGTGAGTGGACAATGCG'\n",
    "    for sequence in hma_data:\n",
    "        (ss,mutated_mfe) = RNA.fold(sequence)\n",
    "        hma_data[sequence][1] = mutated_mfe - wild_type_mfe #delta delta g\n",
    "    grouped_muts = {}\n",
    "    flag = 0\n",
    "    for i in range (1,77):\n",
    "        grouped_muts[i] = [[],[],[a for a in range(i,i+15)]] #0 will have leis and 1 will have deltadelta g\n",
    "    # for i in range (1,87):\n",
    "    #     grouped_muts[i] = [[],[],[a for a in range(i,i+5)]] #0 will have leis and 1 will have deltadelta g\n",
    "    for sequence in hma_data:\n",
    "    #     for i in [a for a in range(len(sequence)) if sequence[a] != wild_type[a][0]]: #loops through positions of mutations\n",
    "    #         print(i)\n",
    "        for j in grouped_muts:\n",
    "            if ifcommonelement([a for a in range(len(sequence)) if sequence[a] != wild_type[a][0]],grouped_muts[j][2]):\n",
    "                grouped_muts[j][0].append(hma_data[sequence][0]) #adding LEIs\n",
    "                grouped_muts[j][1].append(hma_data[sequence][1]) #adding delta delta g\n",
    "    #             if j == 30:\n",
    "    #                 print(str([a for a in range(len(sequence)) if sequence[a] != wild_type[a][0]]) + \": \" + str(grouped_muts[j][2]))\n",
    "    # print(len(grouped_muts[50][1]))\n",
    "\n",
    "    randomly_selected_muts={}\n",
    "    for j in range(0,31):\n",
    "        randomly_selected_muts[j]= [[],[]]\n",
    "        for i in range(0,189):\n",
    "            sequence = random.choice(list(hma_data.keys()))\n",
    "            randomly_selected_muts[j][0].append(hma_data[sequence][0])\n",
    "            randomly_selected_muts[j][1].append(hma_data[sequence][1])\n",
    "\n",
    "    # points = {}\n",
    "    # for fifteenmer in grouped_muts: #fifteenmer refers to an integer position\n",
    "    #     if len(grouped_muts[fifteenmer][0]) ==189 :\n",
    "    #         points[fifteenmer]= [sum(grouped_muts[fifteenmer][0])/len(grouped_muts[fifteenmer][0]),sum(grouped_muts[fifteenmer][1])/len(grouped_muts[fifteenmer][1])]\n",
    "\n",
    "    points = {}\n",
    "    for fifteenmer in randomly_selected_muts: #fifteenmer refers to an integer position\n",
    "        if len(randomly_selected_muts[fifteenmer][0]) ==189 :\n",
    "            points[fifteenmer]= [sum(randomly_selected_muts[fifteenmer][0])/len(randomly_selected_muts[fifteenmer][0]),sum(randomly_selected_muts[fifteenmer][1])/len(randomly_selected_muts[fifteenmer][1])]\n",
    "\n",
    "    x_vals = []\n",
    "    y_vals = []\n",
    "    counter = 0\n",
    "    for a in points:\n",
    "        if counter%5 >-1:\n",
    "            x_vals.append(points[a][1]) #x should be delta delta g\n",
    "            y_vals.append(points[a][0]) #y is avg LEI of mutations within 15mer\n",
    "        counter = counter +1\n",
    "\n",
    "    #random.shuffle(y_vals)\n",
    "\n",
    "    slope, intercept, r_value, p_value, std_err = stats.linregress(x_vals,y_vals)\n",
    "#     plt.plot(x_vals,y_vals,'.')\n",
    "\n",
    "    # for i in range(0, len(x_vals)):\n",
    "    #     plt.plot(x_vals[i:i+2], y_vals[i:i+2], 'ro-')\n",
    "    r_squared_values.append(r_value**2)\n",
    "print(r_squared_values)\n",
    "print(\"average: \" + str(sum(r_squared_values)/len(r_squared_values)))"
   ]
  },
  {
   "cell_type": "code",
   "execution_count": 74,
   "metadata": {},
   "outputs": [
    {
     "name": "stdout",
     "output_type": "stream",
     "text": [
      "n = 31\n",
      "r^2 = 0.3402848159422738\n",
      "y = 0.6036296073759592x + -2.8891161661161675\n"
     ]
    },
    {
     "data": {
      "image/png": "[encoded data removed]",
      "text/plain": [
       "<Figure size 432x288 with 1 Axes>"
      ]
     },
     "metadata": {
      "needs_background": "light"
     },
     "output_type": "display_data"
    }
   ],
   "source": [
    "# points = {}\n",
    "# for fifteenmer in grouped_muts: #fifteenmer refers to an integer position\n",
    "#     if len(grouped_muts[fifteenmer][0]) ==189 :\n",
    "#         points[fifteenmer]= [sum(grouped_muts[fifteenmer][0])/len(grouped_muts[fifteenmer][0]),sum(grouped_muts[fifteenmer][1])/len(grouped_muts[fifteenmer][1])]\n",
    "\n",
    "points = {}\n",
    "for fifteenmer in randomly_selected_muts: #fifteenmer refers to an integer position\n",
    "    if len(randomly_selected_muts[fifteenmer][0]) ==189 :\n",
    "        points[fifteenmer]= [sum(randomly_selected_muts[fifteenmer][0])/len(randomly_selected_muts[fifteenmer][0]),sum(randomly_selected_muts[fifteenmer][1])/len(randomly_selected_muts[fifteenmer][1])]\n",
    "\n",
    "x_vals = []\n",
    "y_vals = []\n",
    "counter = 0\n",
    "for a in points:\n",
    "    if counter%5 >-1:\n",
    "        x_vals.append(points[a][1]) #x should be delta delta g\n",
    "        y_vals.append(points[a][0]) #y is avg LEI of mutations within 15mer\n",
    "    counter = counter +1\n",
    "\n",
    "#random.shuffle(y_vals)\n",
    "\n",
    "slope, intercept, r_value, p_value, std_err = stats.linregress(x_vals,y_vals)\n",
    "plt.plot(x_vals,y_vals,'.')\n",
    "\n",
    "# for i in range(0, len(x_vals)):\n",
    "#     plt.plot(x_vals[i:i+2], y_vals[i:i+2], 'ro-')\n",
    "\n",
    "plt.xlabel(\"avg delta delta g of mutations within 15mer (mutated - wildtype)\")\n",
    "plt.ylabel(\"avg LEI of mutations within 15mer\")\n",
    "plt.title(\"effect of structure on LEI for each 15mer (accepting all windows with 189 mutations)\")\n",
    "abline(slope,intercept)\n",
    "print(\"n = \" + str(len(x_vals)))\n",
    "print(\"r^2 = \" + str(r_value**2))\n",
    "print(\"y = \" + str(slope) + \"x + \" + str(intercept))"
   ]
  },
  {
   "cell_type": "code",
   "execution_count": 40,
   "metadata": {},
   "outputs": [],
   "source": [
    "# but we don't have to use 15mers!\n",
    "\n",
    "def plotgraph (x):\n",
    "    wild_type_mfe = -24.2\n",
    "    wild_type = 'CCCCACCTCTTCTTCTTTTCTAGAGTTGCTGCTGGGAGCTCCAGCACAGTGAAATGGACAGAAGGGCAGAGCAAGTGAGTGGACAATGCG'\n",
    "    for sequence in hma_data:\n",
    "        (ss,mutated_mfe) = RNA.fold(sequence)\n",
    "        hma_data[sequence][1] = mutated_mfe - wild_type_mfe #delta delta g\n",
    "    grouped_muts = {}\n",
    "    flag = 0\n",
    "    for i in range (1,92-x):\n",
    "        grouped_muts[i] = [[],[],[a for a in range(i,i+x)]] #0 will have leis and 1 will have deltadelta g\n",
    "    for sequence in hma_data:\n",
    "    #     for i in [a for a in range(len(sequence)) if sequence[a] != wild_type[a][0]]: #loops through positions of mutations\n",
    "    #         print(i)\n",
    "        for j in grouped_muts:\n",
    "            if ifcommonelement([a for a in range(len(sequence)) if sequence[a] != wild_type[a][0]],grouped_muts[j][2]):\n",
    "                grouped_muts[j][0].append(hma_data[sequence][0]) #adding LEIs\n",
    "                grouped_muts[j][1].append(hma_data[sequence][1]) #adding delta delta g\n",
    "    print(len(grouped_muts[50][1]))\n",
    "\n",
    "    points = {}\n",
    "    for xmer in grouped_muts:\n",
    "        if len(grouped_muts[xmer][0]) ==249:\n",
    "            points[xmer]= [sum(grouped_muts[xmer][0])/len(grouped_muts[xmer][0]),sum(grouped_muts[xmer][1])/len(grouped_muts[xmer][1])]\n",
    "\n",
    "    x_vals = []\n",
    "    y_vals = []\n",
    "    \n",
    "    for a in points:\n",
    "        x_vals.append(points[a][1]) #x should be delta delta g\n",
    "        y_vals.append(points[a][0]) #y is avg LEI of mutations within 15mer\n",
    "\n",
    "    slope, intercept, r_value, p_value, std_err = stats.linregress(x_vals,y_vals)\n",
    "    plt.plot(x_vals,y_vals,'.')\n",
    "    plt.xlabel(\"avg delta delta g of mutations within \" + str(x) + \"mer (mutated - mfe)\")\n",
    "    plt.ylabel(\"avg LEI of mutations within \" + str(x) + \"mer\")\n",
    "    plt.title(\"effect of structure on LEI for each \" + str(x) + \"mer (accepting positions with 249 mutations)\")\n",
    "    abline(slope,intercept)\n",
    "    print(\"n = \" + str(len(x_vals)))\n",
    "    print(\"r^2 = \" + str(r_value**2))\n",
    "    print(\"y = \" + str(slope) + \"x + \" + str(intercept))"
   ]
  },
  {
   "cell_type": "code",
   "execution_count": 41,
   "metadata": {},
   "outputs": [
    {
     "name": "stdout",
     "output_type": "stream",
     "text": [
      "249\n",
      "n = 26\n",
      "r^2 = 0.7658757945755345\n",
      "y = 1.007507429782264x + -2.6082694685647465\n"
     ]
    },
    {
     "data": {
      "image/png": "[encoded data removed]",
      "text/plain": [
       "<Figure size 432x288 with 1 Axes>"
      ]
     },
     "metadata": {
      "needs_background": "light"
     },
     "output_type": "display_data"
    }
   ],
   "source": [
    "plotgraph(20)"
   ]
  },
  {
   "cell_type": "markdown",
   "metadata": {},
   "source": [
    "### Let's use another attempt: look at competitiveness. Maybe this is more relevant due to kinetic theory"
   ]
  },
  {
   "cell_type": "code",
   "execution_count": 8,
   "metadata": {},
   "outputs": [],
   "source": [
    "# following code checks if two 5mers has all or (all-1) bases the same\n",
    "def issimilar(string1,string2):\n",
    "    counter = 0\n",
    "    for i in range(0,len(string1)):\n",
    "        if string1[i] == string2[i]:\n",
    "            counter = counter + 1\n",
    "    return counter>=len(string1)-1\n",
    "    \n",
    "#following helper gives a reverse complement\n",
    "def reverse_complement(string1):\n",
    "    reverse_comp = \"\"\n",
    "    for i in string1:\n",
    "        if i=='A':\n",
    "            reverse_comp = 'T' + reverse_comp\n",
    "        elif i == 'G':\n",
    "            reverse_comp = 'C' + reverse_comp\n",
    "        elif i == 'C':\n",
    "            reverse_comp = 'G' + reverse_comp\n",
    "        else:\n",
    "            reverse_comp = 'A' + reverse_comp\n",
    "    return reverse_comp\n",
    "\n",
    "#following helper outputs number of reverse complements within a sequence of a specific window. sequence starts at 1\n",
    "def num_of_complements(sequence,position,window_size):\n",
    "    nmer = sequence[position-1:position+window_size-1]\n",
    "    num_of_comps = 0\n",
    "    for i in range(0,len(sequence)-window_size+1):\n",
    "        if issimilar(sequence[i:i+window_size], reverse_complement(nmer)):\n",
    "            num_of_comps = num_of_comps + 1\n",
    "    return num_of_comps\n",
    "\n",
    "def delta_n_rcomps(mutated_sequence,position,window_size):\n",
    "    wildtype = 'CCCCACCTCTTCTTCTTTTCTAGAGTTGCTGCTGGGAGCTCCAGCACAGTGAAATGGACAGAAGGGCAGAGCAAGTGAGTGGACAATGCG'\n",
    "    return num_of_complements(mutated_sequence,position,window_size) - num_of_complements(wildtype,position,window_size)"
   ]
  },
  {
   "cell_type": "code",
   "execution_count": 9,
   "metadata": {},
   "outputs": [],
   "source": [
    "#import HMA\n",
    "datafile = open('./data/sms_hma_results.csv', 'r')\n",
    "datareader = csv.reader(datafile, delimiter=',')\n",
    "hma_data = {}\n",
    "for row in datareader:\n",
    "    #have to add flanks\n",
    "    #row[0] is sequence, row[1] is EI, row[2] is rel EI, row[3] is PUP, row[4] is LEI and row[5] is LEIsc\n",
    "    hma_data[row[0]] = [float(row[4]),0]\n",
    "datafile.close()\n",
    "\n",
    "def ifcommonelement(a,b):\n",
    "    for i in a:\n",
    "        for j in b:\n",
    "            if i==j:\n",
    "                return True\n",
    "    return False\n",
    "\n",
    "def all_but_these_muts(position,window_size):\n",
    "    wild_type = 'CCCCACCTCTTCTTCTTTTCTAGAGTTGCTGCTGGGAGCTCCAGCACAGTGAAATGGACAGAAGGGCAGAGCAAGTGAGTGGACAATGCG'\n",
    "    x = []\n",
    "    window = range(position,position+window_size)\n",
    "    for sequence in hma_data:\n",
    "        if not ifcommonelement([a for a in range(len(sequence)) if sequence[a] != wild_type[a][0]],window):\n",
    "            x.append(sequence)\n",
    "    return x"
   ]
  },
  {
   "cell_type": "code",
   "execution_count": 10,
   "metadata": {},
   "outputs": [
    {
     "name": "stdout",
     "output_type": "stream",
     "text": [
      "n = 487\n",
      "r = -0.009862819500352277\n",
      "y = -0.06792290762949726x + -2.4938629114570037\n"
     ]
    },
    {
     "data": {
      "image/png": "[encoded data removed]",
      "text/plain": [
       "<Figure size 432x288 with 1 Axes>"
      ]
     },
     "metadata": {
      "needs_background": "light"
     },
     "output_type": "display_data"
    }
   ],
   "source": [
    "position =50\n",
    "window_size = 5\n",
    "x_vals = []\n",
    "y_vals = []\n",
    "for mutant in all_but_these_muts(position,window_size):\n",
    "    x_vals.append(delta_n_rcomps(mutant,position,window_size))\n",
    "    y_vals.append(hma_data[mutant][0])\n",
    "    \n",
    "slope, intercept, r_value, p_value, std_err = stats.linregress(x_vals,y_vals)\n",
    "plt.plot(x_vals,y_vals,'.')\n",
    "plt.xlabel(\"change in compeitors\")\n",
    "plt.ylabel(\"LEI\")\n",
    "plt.title(\"effect of change of competition on LEI for each mutant on position 50-55\")\n",
    "abline(slope,intercept)\n",
    "print(\"n = \" + str(len(x_vals)))\n",
    "print(\"r = \" + str(r_value))\n",
    "print(\"y = \" + str(slope) + \"x + \" + str(intercept))"
   ]
  },
  {
   "cell_type": "code",
   "execution_count": 11,
   "metadata": {},
   "outputs": [
    {
     "name": "stdout",
     "output_type": "stream",
     "text": [
      "n = 85\n",
      "y = 0.12686631461923337x + -2.636937743190662\n"
     ]
    },
    {
     "data": {
      "image/png": "[encoded data removed]",
      "text/plain": [
       "<Figure size 432x288 with 1 Axes>"
      ]
     },
     "metadata": {
      "needs_background": "light"
     },
     "output_type": "display_data"
    }
   ],
   "source": [
    "x_vals=[]\n",
    "y_vals=[]\n",
    "\n",
    "for i in range(1,86):\n",
    "    position = i\n",
    "    window_size = 5\n",
    "    window_size = 5\n",
    "    x = []\n",
    "    y = []\n",
    "    for mutant in all_but_these_muts(position,window_size):\n",
    "        x.append(delta_n_rcomps(mutant,position,window_size))\n",
    "        y.append(hma_data[mutant][0])\n",
    "    x_vals.append(position)\n",
    "    slope, intercept, r_value, p_value, std_err = stats.linregress(x,y)\n",
    "    y_vals.append(r_value)\n",
    "\n",
    "plt.plot(x_vals,y_vals,'.')\n",
    "plt.xlabel(\"position\")\n",
    "plt.ylabel(\"r value\")\n",
    "plt.title(\"effect of change of competition on LEI for each mutant on each position\")\n",
    "print(\"n = \" + str(len(x_vals)))\n",
    "print(\"y = \" + str(slope) + \"x + \" + str(intercept))"
   ]
  },
  {
   "cell_type": "code",
   "execution_count": 94,
   "metadata": {},
   "outputs": [
    {
     "name": "stdout",
     "output_type": "stream",
     "text": [
      "False\n",
      "AGCAT\n",
      "1\n",
      "CCCCACCTCTTCTTCTTTTCTAGAGTTGCTGCTGGGAGCTCCAGCACAGTGAAATGGACAGAAGGGCAGAGCAAGTGAGTGGACAATGCG\n",
      "CCCCACCTCTTCTTCTTTTCTAGAAATGCTGCTGGGAGCTCCAGCACAGTGAAATGGACAGAAGGGCAGAGCAAGTGAGTGGACAATGCG\n",
      "CCCCACCTCTTCTTCTTTTCTAGAACTGCTGCTGGGAGCTCCAGCACAGTGAAATGGACAGAAGGGCAGAGCAAGTGAGTGGACAATGCG\n",
      "CCCCACCTCTTCTTCTTTTCTAGAAGTGCTGCTGGGAGCTCCAGCACAGTGAAATGGACAGAAGGGCAGAGCAAGTGAGTGGACAATGCG\n",
      "CCCCACCTCTTCTTCTTTTCTAGAATTGCTGCTGGGAGCTCCAGCACAGTGAAATGGACAGAAGGGCAGAGCAAGTGAGTGGACAATGCG\n",
      "CCCCACCTCTTCTTCTTTTCTAGACATGCTGCTGGGAGCTCCAGCACAGTGAAATGGACAGAAGGGCAGAGCAAGTGAGTGGACAATGCG\n",
      "CCCCACCTCTTCTTCTTTTCTAGACCTGCTGCTGGGAGCTCCAGCACAGTGAAATGGACAGAAGGGCAGAGCAAGTGAGTGGACAATGCG\n",
      "CCCCACCTCTTCTTCTTTTCTAGACGTGCTGCTGGGAGCTCCAGCACAGTGAAATGGACAGAAGGGCAGAGCAAGTGAGTGGACAATGCG\n",
      "CCCCACCTCTTCTTCTTTTCTAGACTTGCTGCTGGGAGCTCCAGCACAGTGAAATGGACAGAAGGGCAGAGCAAGTGAGTGGACAATGCG\n",
      "CCCCACCTCTTCTTCTTTTCTAGATATGCTGCTGGGAGCTCCAGCACAGTGAAATGGACAGAAGGGCAGAGCAAGTGAGTGGACAATGCG\n",
      "CCCCACCTCTTCTTCTTTTCTAGATCTGCTGCTGGGAGCTCCAGCACAGTGAAATGGACAGAAGGGCAGAGCAAGTGAGTGGACAATGCG\n",
      "CCCCACCTCTTCTTCTTTTCTAGATGTGCTGCTGGGAGCTCCAGCACAGTGAAATGGACAGAAGGGCAGAGCAAGTGAGTGGACAATGCG\n",
      "CCCCACCTCTTCTTCTTTTCTAGATTTGCTGCTGGGAGCTCCAGCACAGTGAAATGGACAGAAGGGCAGAGCAAGTGAGTGGACAATGCG\n",
      "CCCCACCTCTTCTTCTTTTCTAGAGAAGCTGCTGGGAGCTCCAGCACAGTGAAATGGACAGAAGGGCAGAGCAAGTGAGTGGACAATGCG\n",
      "CCCCACCTCTTCTTCTTTTCTAGAGACGCTGCTGGGAGCTCCAGCACAGTGAAATGGACAGAAGGGCAGAGCAAGTGAGTGGACAATGCG\n",
      "CCCCACCTCTTCTTCTTTTCTAGAGAGGCTGCTGGGAGCTCCAGCACAGTGAAATGGACAGAAGGGCAGAGCAAGTGAGTGGACAATGCG\n",
      "CCCCACCTCTTCTTCTTTTCTAGAGATGCTGCTGGGAGCTCCAGCACAGTGAAATGGACAGAAGGGCAGAGCAAGTGAGTGGACAATGCG\n",
      "CCCCACCTCTTCTTCTTTTCTAGAGCAGCTGCTGGGAGCTCCAGCACAGTGAAATGGACAGAAGGGCAGAGCAAGTGAGTGGACAATGCG\n",
      "CCCCACCTCTTCTTCTTTTCTAGAGCCGCTGCTGGGAGCTCCAGCACAGTGAAATGGACAGAAGGGCAGAGCAAGTGAGTGGACAATGCG\n",
      "CCCCACCTCTTCTTCTTTTCTAGAGCGGCTGCTGGGAGCTCCAGCACAGTGAAATGGACAGAAGGGCAGAGCAAGTGAGTGGACAATGCG\n",
      "CCCCACCTCTTCTTCTTTTCTAGAGCTGCTGCTGGGAGCTCCAGCACAGTGAAATGGACAGAAGGGCAGAGCAAGTGAGTGGACAATGCG\n",
      "CCCCACCTCTTCTTCTTTTCTAGAGGAGCTGCTGGGAGCTCCAGCACAGTGAAATGGACAGAAGGGCAGAGCAAGTGAGTGGACAATGCG\n",
      "CCCCACCTCTTCTTCTTTTCTAGAGGCGCTGCTGGGAGCTCCAGCACAGTGAAATGGACAGAAGGGCAGAGCAAGTGAGTGGACAATGCG\n",
      "CCCCACCTCTTCTTCTTTTCTAGAGGGGCTGCTGGGAGCTCCAGCACAGTGAAATGGACAGAAGGGCAGAGCAAGTGAGTGGACAATGCG\n",
      "CCCCACCTCTTCTTCTTTTCTAGAGGTGCTGCTGGGAGCTCCAGCACAGTGAAATGGACAGAAGGGCAGAGCAAGTGAGTGGACAATGCG\n",
      "CCCCACCTCTTCTTCTTTTCTAGAGTAACTGCTGGGAGCTCCAGCACAGTGAAATGGACAGAAGGGCAGAGCAAGTGAGTGGACAATGCG\n",
      "CCCCACCTCTTCTTCTTTTCTAGAGTACCTGCTGGGAGCTCCAGCACAGTGAAATGGACAGAAGGGCAGAGCAAGTGAGTGGACAATGCG\n",
      "CCCCACCTCTTCTTCTTTTCTAGAGTAGCTGCTGGGAGCTCCAGCACAGTGAAATGGACAGAAGGGCAGAGCAAGTGAGTGGACAATGCG\n",
      "CCCCACCTCTTCTTCTTTTCTAGAGTATCTGCTGGGAGCTCCAGCACAGTGAAATGGACAGAAGGGCAGAGCAAGTGAGTGGACAATGCG\n",
      "CCCCACCTCTTCTTCTTTTCTAGAGTCACTGCTGGGAGCTCCAGCACAGTGAAATGGACAGAAGGGCAGAGCAAGTGAGTGGACAATGCG\n",
      "CCCCACCTCTTCTTCTTTTCTAGAGTCCCTGCTGGGAGCTCCAGCACAGTGAAATGGACAGAAGGGCAGAGCAAGTGAGTGGACAATGCG\n",
      "CCCCACCTCTTCTTCTTTTCTAGAGTCGCTGCTGGGAGCTCCAGCACAGTGAAATGGACAGAAGGGCAGAGCAAGTGAGTGGACAATGCG\n",
      "CCCCACCTCTTCTTCTTTTCTAGAGTCTCTGCTGGGAGCTCCAGCACAGTGAAATGGACAGAAGGGCAGAGCAAGTGAGTGGACAATGCG\n",
      "CCCCACCTCTTCTTCTTTTCTAGAGTGACTGCTGGGAGCTCCAGCACAGTGAAATGGACAGAAGGGCAGAGCAAGTGAGTGGACAATGCG\n",
      "CCCCACCTCTTCTTCTTTTCTAGAGTGCCTGCTGGGAGCTCCAGCACAGTGAAATGGACAGAAGGGCAGAGCAAGTGAGTGGACAATGCG\n",
      "CCCCACCTCTTCTTCTTTTCTAGAGTGGCTGCTGGGAGCTCCAGCACAGTGAAATGGACAGAAGGGCAGAGCAAGTGAGTGGACAATGCG\n",
      "CCCCACCTCTTCTTCTTTTCTAGAGTGTCTGCTGGGAGCTCCAGCACAGTGAAATGGACAGAAGGGCAGAGCAAGTGAGTGGACAATGCG\n",
      "CCCCACCTCTTCTTCTTTTCTAGAGTTAATGCTGGGAGCTCCAGCACAGTGAAATGGACAGAAGGGCAGAGCAAGTGAGTGGACAATGCG\n",
      "CCCCACCTCTTCTTCTTTTCTAGAGTTACTGCTGGGAGCTCCAGCACAGTGAAATGGACAGAAGGGCAGAGCAAGTGAGTGGACAATGCG\n",
      "CCCCACCTCTTCTTCTTTTCTAGAGTTAGTGCTGGGAGCTCCAGCACAGTGAAATGGACAGAAGGGCAGAGCAAGTGAGTGGACAATGCG\n",
      "CCCCACCTCTTCTTCTTTTCTAGAGTTATTGCTGGGAGCTCCAGCACAGTGAAATGGACAGAAGGGCAGAGCAAGTGAGTGGACAATGCG\n",
      "CCCCACCTCTTCTTCTTTTCTAGAGTTCATGCTGGGAGCTCCAGCACAGTGAAATGGACAGAAGGGCAGAGCAAGTGAGTGGACAATGCG\n",
      "CCCCACCTCTTCTTCTTTTCTAGAGTTCCTGCTGGGAGCTCCAGCACAGTGAAATGGACAGAAGGGCAGAGCAAGTGAGTGGACAATGCG\n",
      "CCCCACCTCTTCTTCTTTTCTAGAGTTCGTGCTGGGAGCTCCAGCACAGTGAAATGGACAGAAGGGCAGAGCAAGTGAGTGGACAATGCG\n",
      "CCCCACCTCTTCTTCTTTTCTAGAGTTCTTGCTGGGAGCTCCAGCACAGTGAAATGGACAGAAGGGCAGAGCAAGTGAGTGGACAATGCG\n",
      "CCCCACCTCTTCTTCTTTTCTAGAGTTTATGCTGGGAGCTCCAGCACAGTGAAATGGACAGAAGGGCAGAGCAAGTGAGTGGACAATGCG\n",
      "CCCCACCTCTTCTTCTTTTCTAGAGTTTCTGCTGGGAGCTCCAGCACAGTGAAATGGACAGAAGGGCAGAGCAAGTGAGTGGACAATGCG\n",
      "CCCCACCTCTTCTTCTTTTCTAGAGTTTGTGCTGGGAGCTCCAGCACAGTGAAATGGACAGAAGGGCAGAGCAAGTGAGTGGACAATGCG\n",
      "CCCCACCTCTTCTTCTTTTCTAGAGTTTTTGCTGGGAGCTCCAGCACAGTGAAATGGACAGAAGGGCAGAGCAAGTGAGTGGACAATGCG\n",
      "CCCCACCTCTTCTTCTTTTCTAGAGTTGAAGCTGGGAGCTCCAGCACAGTGAAATGGACAGAAGGGCAGAGCAAGTGAGTGGACAATGCG\n",
      "CCCCACCTCTTCTTCTTTTCTAGAGTTGACGCTGGGAGCTCCAGCACAGTGAAATGGACAGAAGGGCAGAGCAAGTGAGTGGACAATGCG\n",
      "CCCCACCTCTTCTTCTTTTCTAGAGTTGAGGCTGGGAGCTCCAGCACAGTGAAATGGACAGAAGGGCAGAGCAAGTGAGTGGACAATGCG\n",
      "CCCCACCTCTTCTTCTTTTCTAGAGTTGATGCTGGGAGCTCCAGCACAGTGAAATGGACAGAAGGGCAGAGCAAGTGAGTGGACAATGCG\n",
      "CCCCACCTCTTCTTCTTTTCTAGAGTTGGAGCTGGGAGCTCCAGCACAGTGAAATGGACAGAAGGGCAGAGCAAGTGAGTGGACAATGCG\n",
      "CCCCACCTCTTCTTCTTTTCTAGAGTTGGCGCTGGGAGCTCCAGCACAGTGAAATGGACAGAAGGGCAGAGCAAGTGAGTGGACAATGCG\n",
      "CCCCACCTCTTCTTCTTTTCTAGAGTTGGGGCTGGGAGCTCCAGCACAGTGAAATGGACAGAAGGGCAGAGCAAGTGAGTGGACAATGCG\n",
      "CCCCACCTCTTCTTCTTTTCTAGAGTTGGTGCTGGGAGCTCCAGCACAGTGAAATGGACAGAAGGGCAGAGCAAGTGAGTGGACAATGCG\n",
      "CCCCACCTCTTCTTCTTTTCTAGAGTTGTAGCTGGGAGCTCCAGCACAGTGAAATGGACAGAAGGGCAGAGCAAGTGAGTGGACAATGCG\n",
      "CCCCACCTCTTCTTCTTTTCTAGAGTTGTCGCTGGGAGCTCCAGCACAGTGAAATGGACAGAAGGGCAGAGCAAGTGAGTGGACAATGCG\n",
      "CCCCACCTCTTCTTCTTTTCTAGAGTTGTGGCTGGGAGCTCCAGCACAGTGAAATGGACAGAAGGGCAGAGCAAGTGAGTGGACAATGCG\n",
      "CCCCACCTCTTCTTCTTTTCTAGAGTTGTTGCTGGGAGCTCCAGCACAGTGAAATGGACAGAAGGGCAGAGCAAGTGAGTGGACAATGCG\n",
      "CCCCACCTCTTCTTCTTTTCTAGAGTTGCAGCTGGGAGCTCCAGCACAGTGAAATGGACAGAAGGGCAGAGCAAGTGAGTGGACAATGCG\n",
      "CCCCACCTCTTCTTCTTTTCTAGAGTTGCCGCTGGGAGCTCCAGCACAGTGAAATGGACAGAAGGGCAGAGCAAGTGAGTGGACAATGCG\n",
      "CCCCACCTCTTCTTCTTTTCTAGAGTTGCGGCTGGGAGCTCCAGCACAGTGAAATGGACAGAAGGGCAGAGCAAGTGAGTGGACAATGCG\n",
      "CCCCACCTCTTCTTCTTTTCTAGAGTTGCTGCTGGGAGCTCCAGCACAGTGAAATGGACAGAAGGAAAGAGCAAGTGAGTGGACAATGCG\n",
      "CCCCACCTCTTCTTCTTTTCTAGAGTTGCTGCTGGGAGCTCCAGCACAGTGAAATGGACAGAAGGACAGAGCAAGTGAGTGGACAATGCG\n",
      "CCCCACCTCTTCTTCTTTTCTAGAGTTGCTGCTGGGAGCTCCAGCACAGTGAAATGGACAGAAGGAGAGAGCAAGTGAGTGGACAATGCG\n",
      "CCCCACCTCTTCTTCTTTTCTAGAGTTGCTGCTGGGAGCTCCAGCACAGTGAAATGGACAGAAGGATAGAGCAAGTGAGTGGACAATGCG\n",
      "CCCCACCTCTTCTTCTTTTCTAGAGTTGCTGCTGGGAGCTCCAGCACAGTGAAATGGACAGAAGGCAAGAGCAAGTGAGTGGACAATGCG\n",
      "CCCCACCTCTTCTTCTTTTCTAGAGTTGCTGCTGGGAGCTCCAGCACAGTGAAATGGACAGAAGGCCAGAGCAAGTGAGTGGACAATGCG\n",
      "CCCCACCTCTTCTTCTTTTCTAGAGTTGCTGCTGGGAGCTCCAGCACAGTGAAATGGACAGAAGGCGAGAGCAAGTGAGTGGACAATGCG\n",
      "CCCCACCTCTTCTTCTTTTCTAGAGTTGCTGCTGGGAGCTCCAGCACAGTGAAATGGACAGAAGGCTAGAGCAAGTGAGTGGACAATGCG\n",
      "CCCCACCTCTTCTTCTTTTCTAGAGTTGCTGCTGGGAGCTCCAGCACAGTGAAATGGACAGAAGGTAAGAGCAAGTGAGTGGACAATGCG\n",
      "CCCCACCTCTTCTTCTTTTCTAGAGTTGCTGCTGGGAGCTCCAGCACAGTGAAATGGACAGAAGGTCAGAGCAAGTGAGTGGACAATGCG\n",
      "CCCCACCTCTTCTTCTTTTCTAGAGTTGCTGCTGGGAGCTCCAGCACAGTGAAATGGACAGAAGGTGAGAGCAAGTGAGTGGACAATGCG\n",
      "CCCCACCTCTTCTTCTTTTCTAGAGTTGCTGCTGGGAGCTCCAGCACAGTGAAATGGACAGAAGGTTAGAGCAAGTGAGTGGACAATGCG\n",
      "CCCCACCTCTTCTTCTTTTCTAGAGTTGCTGCTGGGAGCTCCAGCACAGTGAAATGGACAGAAGGGAAGAGCAAGTGAGTGGACAATGCG\n",
      "CCCCACCTCTTCTTCTTTTCTAGAGTTGCTGCTGGGAGCTCCAGCACAGTGAAATGGACAGAAGGGACGAGCAAGTGAGTGGACAATGCG\n",
      "CCCCACCTCTTCTTCTTTTCTAGAGTTGCTGCTGGGAGCTCCAGCACAGTGAAATGGACAGAAGGGAGGAGCAAGTGAGTGGACAATGCG\n",
      "CCCCACCTCTTCTTCTTTTCTAGAGTTGCTGCTGGGAGCTCCAGCACAGTGAAATGGACAGAAGGGATGAGCAAGTGAGTGGACAATGCG\n",
      "CCCCACCTCTTCTTCTTTTCTAGAGTTGCTGCTGGGAGCTCCAGCACAGTGAAATGGACAGAAGGGGAGAGCAAGTGAGTGGACAATGCG\n",
      "CCCCACCTCTTCTTCTTTTCTAGAGTTGCTGCTGGGAGCTCCAGCACAGTGAAATGGACAGAAGGGGCGAGCAAGTGAGTGGACAATGCG\n",
      "CCCCACCTCTTCTTCTTTTCTAGAGTTGCTGCTGGGAGCTCCAGCACAGTGAAATGGACAGAAGGGGGGAGCAAGTGAGTGGACAATGCG\n",
      "CCCCACCTCTTCTTCTTTTCTAGAGTTGCTGCTGGGAGCTCCAGCACAGTGAAATGGACAGAAGGGGTGAGCAAGTGAGTGGACAATGCG\n",
      "CCCCACCTCTTCTTCTTTTCTAGAGTTGCTGCTGGGAGCTCCAGCACAGTGAAATGGACAGAAGGGTAGAGCAAGTGAGTGGACAATGCG\n",
      "CCCCACCTCTTCTTCTTTTCTAGAGTTGCTGCTGGGAGCTCCAGCACAGTGAAATGGACAGAAGGGTCGAGCAAGTGAGTGGACAATGCG\n",
      "CCCCACCTCTTCTTCTTTTCTAGAGTTGCTGCTGGGAGCTCCAGCACAGTGAAATGGACAGAAGGGTGGAGCAAGTGAGTGGACAATGCG\n",
      "CCCCACCTCTTCTTCTTTTCTAGAGTTGCTGCTGGGAGCTCCAGCACAGTGAAATGGACAGAAGGGTTGAGCAAGTGAGTGGACAATGCG\n",
      "CCCCACCTCTTCTTCTTTTCTAGAGTTGCTGCTGGGAGCTCCAGCACAGTGAAATGGACAGAAGGGCCAAGCAAGTGAGTGGACAATGCG\n",
      "CCCCACCTCTTCTTCTTTTCTAGAGTTGCTGCTGGGAGCTCCAGCACAGTGAAATGGACAGAAGGGCCCAGCAAGTGAGTGGACAATGCG\n",
      "CCCCACCTCTTCTTCTTTTCTAGAGTTGCTGCTGGGAGCTCCAGCACAGTGAAATGGACAGAAGGGCCGAGCAAGTGAGTGGACAATGCG\n",
      "CCCCACCTCTTCTTCTTTTCTAGAGTTGCTGCTGGGAGCTCCAGCACAGTGAAATGGACAGAAGGGCCTAGCAAGTGAGTGGACAATGCG\n",
      "CCCCACCTCTTCTTCTTTTCTAGAGTTGCTGCTGGGAGCTCCAGCACAGTGAAATGGACAGAAGGGCGAAGCAAGTGAGTGGACAATGCG\n",
      "CCCCACCTCTTCTTCTTTTCTAGAGTTGCTGCTGGGAGCTCCAGCACAGTGAAATGGACAGAAGGGCGCAGCAAGTGAGTGGACAATGCG\n",
      "CCCCACCTCTTCTTCTTTTCTAGAGTTGCTGCTGGGAGCTCCAGCACAGTGAAATGGACAGAAGGGCGGAGCAAGTGAGTGGACAATGCG\n",
      "CCCCACCTCTTCTTCTTTTCTAGAGTTGCTGCTGGGAGCTCCAGCACAGTGAAATGGACAGAAGGGCGTAGCAAGTGAGTGGACAATGCG\n",
      "CCCCACCTCTTCTTCTTTTCTAGAGTTGCTGCTGGGAGCTCCAGCACAGTGAAATGGACAGAAGGGCTAAGCAAGTGAGTGGACAATGCG\n",
      "CCCCACCTCTTCTTCTTTTCTAGAGTTGCTGCTGGGAGCTCCAGCACAGTGAAATGGACAGAAGGGCTCAGCAAGTGAGTGGACAATGCG\n",
      "CCCCACCTCTTCTTCTTTTCTAGAGTTGCTGCTGGGAGCTCCAGCACAGTGAAATGGACAGAAGGGCTGAGCAAGTGAGTGGACAATGCG\n",
      "CCCCACCTCTTCTTCTTTTCTAGAGTTGCTGCTGGGAGCTCCAGCACAGTGAAATGGACAGAAGGGCTTAGCAAGTGAGTGGACAATGCG\n",
      "CCCCACCTCTTCTTCTTTTCTAGAGTTGCTGCTGGGAGCTCCAGCACAGTGAAATGGACAGAAGGGCAAAGCAAGTGAGTGGACAATGCG\n",
      "CCCCACCTCTTCTTCTTTTCTAGAGTTGCTGCTGGGAGCTCCAGCACAGTGAAATGGACAGAAGGGCAACGCAAGTGAGTGGACAATGCG\n",
      "CCCCACCTCTTCTTCTTTTCTAGAGTTGCTGCTGGGAGCTCCAGCACAGTGAAATGGACAGAAGGGCAAGGCAAGTGAGTGGACAATGCG\n",
      "CCCCACCTCTTCTTCTTTTCTAGAGTTGCTGCTGGGAGCTCCAGCACAGTGAAATGGACAGAAGGGCAATGCAAGTGAGTGGACAATGCG\n",
      "CCCCACCTCTTCTTCTTTTCTAGAGTTGCTGCTGGGAGCTCCAGCACAGTGAAATGGACAGAAGGGCACAGCAAGTGAGTGGACAATGCG\n",
      "CCCCACCTCTTCTTCTTTTCTAGAGTTGCTGCTGGGAGCTCCAGCACAGTGAAATGGACAGAAGGGCACCGCAAGTGAGTGGACAATGCG\n",
      "CCCCACCTCTTCTTCTTTTCTAGAGTTGCTGCTGGGAGCTCCAGCACAGTGAAATGGACAGAAGGGCACGGCAAGTGAGTGGACAATGCG\n",
      "CCCCACCTCTTCTTCTTTTCTAGAGTTGCTGCTGGGAGCTCCAGCACAGTGAAATGGACAGAAGGGCACTGCAAGTGAGTGGACAATGCG\n",
      "CCCCACCTCTTCTTCTTTTCTAGAGTTGCTGCTGGGAGCTCCAGCACAGTGAAATGGACAGAAGGGCATAGCAAGTGAGTGGACAATGCG\n",
      "CCCCACCTCTTCTTCTTTTCTAGAGTTGCTGCTGGGAGCTCCAGCACAGTGAAATGGACAGAAGGGCATCGCAAGTGAGTGGACAATGCG\n",
      "CCCCACCTCTTCTTCTTTTCTAGAGTTGCTGCTGGGAGCTCCAGCACAGTGAAATGGACAGAAGGGCATGGCAAGTGAGTGGACAATGCG\n",
      "CCCCACCTCTTCTTCTTTTCTAGAGTTGCTGCTGGGAGCTCCAGCACAGTGAAATGGACAGAAGGGCATTGCAAGTGAGTGGACAATGCG\n",
      "CCCCACCTCTTCTTCTTTTCTAGAGTTGCTGCTGGGAGCTCCAGCACAGTGAAATGGACAGAAGGGCAGCACAAGTGAGTGGACAATGCG\n",
      "CCCCACCTCTTCTTCTTTTCTAGAGTTGCTGCTGGGAGCTCCAGCACAGTGAAATGGACAGAAGGGCAGCCCAAGTGAGTGGACAATGCG\n",
      "CCCCACCTCTTCTTCTTTTCTAGAGTTGCTGCTGGGAGCTCCAGCACAGTGAAATGGACAGAAGGGCAGCGCAAGTGAGTGGACAATGCG\n",
      "CCCCACCTCTTCTTCTTTTCTAGAGTTGCTGCTGGGAGCTCCAGCACAGTGAAATGGACAGAAGGGCAGCTCAAGTGAGTGGACAATGCG\n",
      "CCCCACCTCTTCTTCTTTTCTAGAGTTGCTGCTGGGAGCTCCAGCACAGTGAAATGGACAGAAGGGCAGGACAAGTGAGTGGACAATGCG\n",
      "CCCCACCTCTTCTTCTTTTCTAGAGTTGCTGCTGGGAGCTCCAGCACAGTGAAATGGACAGAAGGGCAGGCCAAGTGAGTGGACAATGCG\n",
      "CCCCACCTCTTCTTCTTTTCTAGAGTTGCTGCTGGGAGCTCCAGCACAGTGAAATGGACAGAAGGGCAGGGCAAGTGAGTGGACAATGCG\n",
      "CCCCACCTCTTCTTCTTTTCTAGAGTTGCTGCTGGGAGCTCCAGCACAGTGAAATGGACAGAAGGGCAGGTCAAGTGAGTGGACAATGCG\n",
      "CCCCACCTCTTCTTCTTTTCTAGAGTTGCTGCTGGGAGCTCCAGCACAGTGAAATGGACAGAAGGGCAGTACAAGTGAGTGGACAATGCG\n",
      "CCCCACCTCTTCTTCTTTTCTAGAGTTGCTGCTGGGAGCTCCAGCACAGTGAAATGGACAGAAGGGCAGTCCAAGTGAGTGGACAATGCG\n",
      "CCCCACCTCTTCTTCTTTTCTAGAGTTGCTGCTGGGAGCTCCAGCACAGTGAAATGGACAGAAGGGCAGTGCAAGTGAGTGGACAATGCG\n",
      "CCCCACCTCTTCTTCTTTTCTAGAGTTGCTGCTGGGAGCTCCAGCACAGTGAAATGGACAGAAGGGCAGTTCAAGTGAGTGGACAATGCG\n",
      "CCCCACCTCTTCTTCTTTTCTAGAGTTGCTGCTGGGAGCTCCAGCACAGTGAAATGGACAGAAGGGCAGAACAAGTGAGTGGACAATGCG\n",
      "CCCCACCTCTTCTTCTTTTCTAGAGTTGCTGCTGGGAGCTCCAGCACAGTGAAATGGACAGAAGGGCAGACCAAGTGAGTGGACAATGCG\n",
      "CCCCACCTCTTCTTCTTTTCTAGAGTTGCTGCTGGGAGCTCCAGCACAGTGAAATGGACAGAAGGGCAGATCAAGTGAGTGGACAATGCG\n"
     ]
    }
   ],
   "source": [
    "#tests\n",
    "print(issimilar(\"abcde\",\"aaade\"))\n",
    "print(reverse_complement(\"ATGCT\"))\n",
    "print(num_of_complements(\"ATGCTGCCGAATCAAAAGAAT\",1,5))\n",
    "x = all_but_these_muts(30,35) #check\n",
    "for i in x:\n",
    "    print(i)"
   ]
  },
  {
   "cell_type": "markdown",
   "metadata": {},
   "source": [
    "# This program is the predictive model for EI based on sequence and secondary structure\n",
    "\n",
    "From past work (ke et.al 2011), we have a model that scores every hexamer motif and uses those scores to predict the splicing efficiency (proportion of the time an exon is included in a mature RNA sequence). In this notebook. I will demonstrate this model, show its inefficiencies, and attempt to improve the model by factoring in availability, a property of RNA secondary structure.\n",
    "\n",
    "We will use two inputs.\n",
    "- hexamer scores from ESRseq \n",
    "- secondary structure from RNA fold software\n",
    "\n",
    "In this jupyter notebook, I will first cover the previous model, which only uses hexamer scores and work towards a more complete model"
   ]
  },
  {
   "cell_type": "markdown",
   "metadata": {},
   "source": [
    "## The past model\n",
    "In the ESR paper each hexamer (with 4^6 = 4096 possiblities) was analyzed and evaluated with a score that corresponds to enhacing or silencing. After filtering non significant hexamers, the arising model, which predicts splicing efficiency based on any exon sequence) works by simply adding up the scores of its hexamers.\n",
    "\n",
    "The following comic shows the process for a short exon\n",
    "\n",
    "[insert comic of how an 8 base exon gets processed]\n",
    "\n",
    "### Implementation and Demonstration of the model\n",
    "In the following 3 blocks of code, we are: importing the hex scores from the ESRseq library, implementing the model, and applying it to a random sequence to see its predicting splicing efficiency (as the log of the enrichment index)"
   ]
  },
  {
   "cell_type": "code",
   "execution_count": 5,
   "metadata": {},
   "outputs": [],
   "source": [
    "# hex scores come in a dictionary. Only significant ones are included. They represent LEI\n",
    "\n",
    "datafile = open('./data/ESRseq_scores.csv', 'r')\n",
    "datareader = csv.reader(datafile, delimiter=',')\n",
    "ESRseq_scores = {}\n",
    "for row in datareader:\n",
    "    if row[1] != \"\":\n",
    "        ESRseq_scores[row[0]] = float(row[1])\n",
    "datafile.close()"
   ]
  },
  {
   "cell_type": "code",
   "execution_count": 6,
   "metadata": {},
   "outputs": [],
   "source": [
    "# this is for sms scores\n",
    "\n",
    "datafile = open('./data/sms_scores1.csv', 'r')\n",
    "datareader = csv.reader(datafile, delimiter=',')\n",
    "SMS_scores = {}\n",
    "for row in datareader:\n",
    "    if row[1] != \"\":\n",
    "        SMS_scores[row[0]] = float(row[1])\n",
    "datafile.close()"
   ]
  },
  {
   "cell_type": "code",
   "execution_count": 7,
   "metadata": {},
   "outputs": [],
   "source": [
    "# the previous model simply adds the enrichment scores of each significant hexamer in the set\n",
    "\n",
    "def predictLEI_archaic(preMRNA,left_flank,right_flank):\n",
    "    #extract hex sequences from preMRNA\n",
    "    hexs = [preMRNA[i:i+6] for i in range(left_flank,len(preMRNA)-right_flank-5)]\n",
    "    #list out significant weighted hex scores\n",
    "    hexLEIs = []\n",
    "    for hexSeq in hexs:\n",
    "        if hexSeq in ESRseq_scores:\n",
    "            hexLEIs.append(ESRseq_scores[hexSeq])\n",
    "    #average the hex scores, the following code will break if you input a sequence with only insignificant hexs\n",
    "    sumScores = sum(hexLEIs)\n",
    "    return(sumScores)\n",
    "\n",
    "def predictLEI_archaic_sms(preMRNA,left_flank,right_flank):\n",
    "    #extract hex sequences from preMRNA\n",
    "    sevenmers = [preMRNA[i:i+7] for i in range(len(preMRNA)-6)]\n",
    "    #list out significant weighted hex scores\n",
    "    sevenmerLEIs = []\n",
    "    for sevenmer in sevenmers:\n",
    "        if sevenmer in SMS_scores:\n",
    "            sevenmerLEIs.append(SMS_scores[sevenmer])\n",
    "    #average the hex scores, the following code will break if you input a sequence with only insignificant hexs\n",
    "    sumScores = sum(sevenmerLEIs)\n",
    "    return(sumScores)\n",
    "\n",
    "def predictLEI_archaic_sms(preMRNA,left_flank,right_flank):\n",
    "    #extract hex sequences from preMRNA\n",
    "    sevenmers = [preMRNA[i:i+7] for i in range(left_flank,len(preMRNA)-right_flank-6)]\n",
    "    #list out significant weighted hex scores\n",
    "    sevenmerLEIs = []\n",
    "    for sevenmer in sevenmers:\n",
    "        if sevenmer in SMS_scores:\n",
    "            sevenmerLEIs.append(SMS_scores[sevenmer])\n",
    "    #average the hex scores, the following code will break if you input a sequence with only insignificant hexs\n",
    "    sumScores = sum(sevenmerLEIs)\n",
    "    return(sumScores)"
   ]
  },
  {
   "cell_type": "code",
   "execution_count": 8,
   "metadata": {},
   "outputs": [
    {
     "name": "stdout",
     "output_type": "stream",
     "text": [
      "1.2267382\n"
     ]
    }
   ],
   "source": [
    "#demonstration of the model\n",
    "\n",
    "seq = \"GAGUAGUGGAACCAGGCUAUGUUUGUGACUCGCAGACUAACA\"\n",
    "\n",
    "print(predictLEI_archaic(seq,0,0))"
   ]
  },
  {
   "cell_type": "markdown",
   "metadata": {},
   "source": [
    "### Application 1: Valcarcel's paper\n",
    "In a paper by Valcarcel (2016), 189 sequences were observed and had their enrichment indexes measured. With this test set, we can see how our model performs by looking at the correlation between our predictions and his observed values for the log of enrichment index of each sequence."
   ]
  },
  {
   "cell_type": "code",
   "execution_count": 8,
   "metadata": {},
   "outputs": [],
   "source": [
    "# import our data\n",
    "datafile = open('./data/valcarcel_data.csv', 'r')\n",
    "datareader = csv.reader(datafile, delimiter=',')\n",
    "valcarcel_data = {}\n",
    "for row in datareader:\n",
    "    #valcarcel_data[row[0]] = [float(row[1]),0]\n",
    "    #for 2^EI\n",
    "    valcarcel_data[row[0]] = [2**float(row[1]),0]\n",
    "datafile.close()\n",
    "\n",
    "# write in our predictments\n",
    "for sequence in  valcarcel_data:\n",
    "    valcarcel_data[sequence][1] = predictLEI_archaic(sequence,0,0)"
   ]
  },
  {
   "cell_type": "code",
   "execution_count": 9,
   "metadata": {},
   "outputs": [
    {
     "name": "stdout",
     "output_type": "stream",
     "text": [
      "r^2 = 0.2863736264350571\n",
      "y = 0.1931773642236244x + 2.24373504624906\n"
     ]
    },
    {
     "data": {
      "image/png": "[encoded data removed]",
      "text/plain": [
       "<Figure size 432x288 with 1 Axes>"
      ]
     },
     "metadata": {
      "needs_background": "light"
     },
     "output_type": "display_data"
    }
   ],
   "source": [
    "x_vals = []\n",
    "y_vals = []\n",
    "for seq in valcarcel_data:\n",
    "    y_vals.append(valcarcel_data[seq][0]) #x is valcarcel's observations\n",
    "    x_vals.append(valcarcel_data[seq][1]) #y is our predictment\n",
    "slope, intercept, r_value, p_value, std_err = stats.linregress(x_vals,y_vals)\n",
    "plt.plot(x_vals,y_vals,'.')\n",
    "abline(slope,intercept)\n",
    "plt.xlabel(\"predicted score from additive model\")\n",
    "plt.ylabel(\"observed LEI\")\n",
    "plt.title(\"Test of additive model's scores against observed LEIs\")\n",
    "print(\"r^2 = \" + str(r_value**2))\n",
    "print(\"y = \" + str(slope) + \"x + \" + str(intercept))\n"
   ]
  },
  {
   "cell_type": "markdown",
   "metadata": {},
   "source": [
    "Oof, that's and r^2 value of 0.28. There is some correlation, but not much. There are many reasons why this can be the case, you can argue that the hexamer scores from the ESRseq scores would only be useful for the specific exons they were made from. I want to argue something different. I think that the method of simply adding hexamer scores is not effective. Here's why"
   ]
  },
  {
   "cell_type": "markdown",
   "metadata": {},
   "source": [
    "### Application 2: data from the SMS paper (ok, more like a hook than an application)\n",
    "\n",
    "In this paper (Ke. et.al 2018), a similar model was created but with 7mer scores instead of hexamer scores. 10 variants of an exon were created and 556 of each variant was mutated with a single or double base mutation. Upon graphing predicted 7mer scores against observed 7mer scores for the model, a group of points correlating to a specific variant were seperated from the rest of the points. This variant was also noted in an aalysis of secondary structure. When the correlation between average unpairdness of a 6mer was correlated to the log of the enrichment index, it was found that in the HMA variant, two sites had a high correlation. \n",
    "\n",
    "[insert figure 3A and 5B here]\n",
    "\n",
    "From these results, we think that secondar structure can have an effect on splicing efficiency. If we were to include secondary structure in the past model via the unpairdness of hexamers, we might be able to account for whatever is causing the HMA variant to be deviant from the rest of the graph in figure 1. Additionally, this new feature could improve the model on valcarcel's data."
   ]
  },
  {
   "cell_type": "markdown",
   "metadata": {},
   "source": [
    "## The new model\n",
    "For this new model, we will account for the secondary structure of RNA strands though a measure of availability, which we define as the unpairdness of the bases within a hexamer. Our suspicion is that if bases in a hexamer are strongly bound to other parts of the RNA sequence, then its bases would be less available to RNA binding proteins, making its effect as a motif weaker.\n",
    "\n",
    "In this model, before we add the scores of each hexamer in a sequence, we will multiply the hexamer by a weight correlating to its availability.\n",
    "\n",
    "Thus, for an example, the program would do the following:\n",
    "\n",
    "[insert comic showing the process]\n",
    "\n",
    "One important factor of this model is that we should be able to know large the weights can be based on availability. Since we cannot arbitrarily choose the range of the weights (and expect good results), we need a scale that sets that range. That way, we can test many different ranges for the weights and find the one that produces the best predictive model"
   ]
  },
  {
   "attachments": {
    "linear%20transform.png": {
     "image/png": "[encoded data removed]"
    }
   },
   "cell_type": "markdown",
   "metadata": {},
   "source": [
    "### Explanation of convertion between availability and weight\n",
    "\n",
    "##### Availability: The expected value\n",
    "Here, availability is defined as the expected value of unpaired bases within a hexamer. This is a number between 0 and 6. If a number is a decimal, then that is because that the hexamer has different possibilities for amount of unpaired bases. The expected value is the average of unpaired bases among those structures weighted by each structures frequency. Here is an example:\n",
    "\n",
    "In a hexamer, 50 percent of the time, it has 4 bases unpaired. the other 50 percent of the time, it has no bases unpaired. The expected value of unparied bases is 2.\n",
    "\n",
    "For the MFE, the expected value of unpaired bases in a hexamer is an integer since the MFE represents only one structure\n",
    "\n",
    "#### Scale: translates the availability to the weight\n",
    "I am multiplying the hex score by a weight determined by availability and a scale. To determine how impactful the scale can be, I set the weight betwee a value 1-x and 1+x, where x is the scale. Lets look at a few cases to understand\n",
    "\n",
    "- x is 1, this is the max. The hexamer's effect as a motif is multiplied by a weight between 0 and 2 (corresponding to no and complete availability)\n",
    "- x is 0, this is the min. The hexamer's effect as a motif is not changed and the model reverts to the previous model that does not consider secondary structure. This is the control\n",
    "\n",
    "by setting x to multiple values, we can optimize the model by trial and error.\n",
    "\n",
    "#### The transformation\n",
    "We want an availability of 0 to correspond to 1-x for a weight and an availability of 6 to correspond to 1+x. The following function does that for me.\n",
    "\n",
    "$$\n",
    "weight = f(availability) = 1 + x(\\frac{availability}{3}-1)\n",
    "$$\n",
    "\n",
    "This is what the tranformation (not linear by the way since 0's don't line up) looks like on number lines.\n",
    "\n",
    "![linear%20transform.png](attachment:linear%20transform.png)"
   ]
  },
  {
   "cell_type": "markdown",
   "metadata": {},
   "source": [
    "### Implmentation and demonstration of the model\n",
    "\n",
    "Since we already imported the hex scores in the implementation of the previous model, we will skip that step here."
   ]
  },
  {
   "cell_type": "code",
   "execution_count": 11,
   "metadata": {},
   "outputs": [],
   "source": [
    "#we will define this function where x is the scale for the weights\n",
    "def predictLEI(preRNA, left_flank_length, right_flank_length, scale):\n",
    "    #keep a list of hex scores * scaled availability\n",
    "    newHexScores = []\n",
    "    #mfe as follows, then pc\n",
    "    #folded = RNA.fold(preRNA)[0]\n",
    "    up_probs = return_up(preRNA)\n",
    "    \n",
    "    #print(folded)\n",
    "    for i in range(left_flank_length,len(preRNA)-right_flank_length-5):\n",
    "        if preRNA[i:i+6] in ESRseq_scores:\n",
    "            #the expected value here is dependent on the a single structure (MFE), so it will always be an exact integer\n",
    "            #expected_val_up = folded[i:i+6].count('.')\n",
    "            #with the pc\n",
    "            expected_val_up = sum(up_probs[i:i+6])\n",
    "            #print(\"expected_val_up: \" + str(expected_val_up))\n",
    "            #the following factor scales the expected value\n",
    "            weight = 1 + (scale * ((expected_val_up / 3) - 1))\n",
    "            newHexScores.append(ESRseq_scores[preRNA[i:i+6]] * weight)\n",
    "            #print(\"ESR score: \" + str(ESRseq_scores[preRNA[i:i+6]]) + \" weight: \" + str(weight))\n",
    "    #average the hex scores, the following code will break if you input a sequence with only insignificant hexs\n",
    "    sumScores = sum(newHexScores)\n",
    "    return(sumScores)"
   ]
  },
  {
   "cell_type": "code",
   "execution_count": 12,
   "metadata": {},
   "outputs": [],
   "source": [
    "#for a control, let's make a bad one with random values\n",
    "def predictLEI_bad(preRNA, left_flank_length, right_flank_length, scale,):\n",
    "    #keep a list of hex scores * scaled availability\n",
    "    newHexScores = []\n",
    "    #mfe as follows, then pc\n",
    "    #folded = RNA.fold(preRNA)[0]    \n",
    "    #print(folded)\n",
    "    for i in range(left_flank_length,len(preRNA)-right_flank_length-5):\n",
    "        if preRNA[i:i+6] in ESRseq_scores:\n",
    "            #expected_val_up_bad is just bad\n",
    "            expected_val_up_bad = 6*random.random()\n",
    "            #print(\"expected_val_up: \" + str(expected_val_up))\n",
    "            #the following factor scales the expected value\n",
    "            weight = 1 + (scale * ((expected_val_up_bad / 3) - 1))\n",
    "            newHexScores.append(ESRseq_scores[preRNA[i:i+6]] * weight)\n",
    "            #print(\"ESR score: \" + str(ESRseq_scores[preRNA[i:i+6]]) + \" weight: \" + str(weight))\n",
    "    #average the hex scores, the following code will break if you input a sequence with only insignificant hexs\n",
    "    sumScores = sum(newHexScores)\n",
    "    return(sumScores)"
   ]
  },
  {
   "cell_type": "code",
   "execution_count": 13,
   "metadata": {},
   "outputs": [],
   "source": [
    "def predictLEI_sms(preRNA, left_flank_length, right_flank_length, scale):\n",
    "    #keep a list of hex scores * scaled availability\n",
    "    newSevenmerScores = []\n",
    "    #mfe as follows, then pc\n",
    "    #folded = RNA.fold(preRNA)[0]\n",
    "    up_probs = return_up(preRNA)\n",
    "    \n",
    "    #print(folded)\n",
    "    for i in range(left_flank_length,len(preRNA)-right_flank_length-6):\n",
    "        if preRNA[i:i+7] in SMS_scores:\n",
    "            #the expected value here is dependent on the a single structure (MFE), so it will always be an exact integer\n",
    "            #expected_val_up = folded[i:i+6].count('.')\n",
    "            #with the pc\n",
    "            expected_val_up = sum(up_probs[i:i+7])\n",
    "            #print(\"expected_val_up: \" + str(expected_val_up))\n",
    "            #the following factor scales the expected value\n",
    "            weight = 1 + (scale * ((expected_val_up / 3.5) - 1))\n",
    "            newSevenmerScores.append(SMS_scores[preRNA[i:i+7]] * weight)\n",
    "            #print(\"ESR score: \" + str(ESRseq_scores[preRNA[i:i+6]]) + \" weight: \" + str(weight))\n",
    "    #average the hex scores, the following code will break if you input a sequence with only insignificant hexs\n",
    "    sumScores = sum(newSevenmerScores)\n",
    "    return(sumScores)"
   ]
  },
  {
   "cell_type": "code",
   "execution_count": 14,
   "metadata": {},
   "outputs": [
    {
     "name": "stdout",
     "output_type": "stream",
     "text": [
      "\n",
      "-0.0153000000000003\n",
      "-0.0153000000000003\n"
     ]
    }
   ],
   "source": [
    "#demonstration with Valcarcel's wild type\n",
    "full_seq = 'TGTCCAATGTTCCAACCTACAGgatccagatctaacttggggtggctttgtcttcttctt\\\n",
    "ttgccaattccactaattgtttgggGTAAGTTCTTGCTTTGTTCAAA'\n",
    "full_seq = full_seq.upper()\n",
    "\n",
    "print()\n",
    "print(predictLEI_sms(full_seq.upper(),22,22,0))\n",
    "\n",
    "\n",
    "print(predictLEI_sms('gatccagatctaacttggggtggctttgtcttcttcttttgccaattccactaattgtttggg'.upper(),0,0,0))"
   ]
  },
  {
   "cell_type": "markdown",
   "metadata": {},
   "source": [
    "# Finding the right scale: using HMA variant of WT1 exon in SMS paper"
   ]
  },
  {
   "cell_type": "code",
   "execution_count": 15,
   "metadata": {},
   "outputs": [],
   "source": [
    "#import sequences and EI values\n",
    "datafile = open('./data/sms_hma_results.csv', 'r')\n",
    "datareader = csv.reader(datafile, delimiter=',')\n",
    "hma_data = {}\n",
    "for row in datareader:\n",
    "    #have to add flanks\n",
    "    #row[0] is sequence, row[1] is EI, row[2] is rel EI, row[3] is PUP, row[4] is LEI and row[5] is LEIsc\n",
    "    hma_data[row[0]] = [float(row[4]),0]\n",
    "datafile.close()"
   ]
  },
  {
   "cell_type": "markdown",
   "metadata": {},
   "source": [
    "### Let's test this with a weight of 0, to see the control"
   ]
  },
  {
   "cell_type": "code",
   "execution_count": 16,
   "metadata": {},
   "outputs": [
    {
     "name": "stdout",
     "output_type": "stream",
     "text": [
      "r^2 = 0.27116972604300543\n",
      "y = 1.089230031086656x + -4.489008746640012\n"
     ]
    },
    {
     "data": {
      "image/png": "[encoded data removed]",
      "text/plain": [
       "<Figure size 432x288 with 1 Axes>"
      ]
     },
     "metadata": {
      "needs_background": "light"
     },
     "output_type": "display_data"
    }
   ],
   "source": [
    "#test this with one scale\n",
    "for sequence in hma_data:\n",
    "    hma_data[sequence][1] = predictLEI(sequence,23,16,.8)\n",
    "    # 23 is the length of the left flank and the 16 is the length of the right flank\n",
    "\n",
    "x_vals = []\n",
    "y_vals = []\n",
    "\n",
    "for sequence in hma_data:\n",
    "    x_vals.append(hma_data[sequence][1]) #x is predicted\n",
    "    \n",
    "for sequence in hma_data:\n",
    "    y_vals.append(hma_data[sequence][0]) #y is observed\n",
    "    \n",
    "slope, intercept, r_value, p_value, std_err = stats.linregress(x_vals,y_vals)\n",
    "plt.plot(x_vals,y_vals,'.')\n",
    "plt.xlabel(\"predicted LEI\")\n",
    "plt.ylabel(\"observed LEI\")\n",
    "abline(slope,intercept)\n",
    "print(\"r^2 = \" + str(r_value**2))\n",
    "print(\"y = \" + str(slope) + \"x + \" + str(intercept))"
   ]
  },
  {
   "cell_type": "markdown",
   "metadata": {},
   "source": [
    "### Ok, while we are at it, let's look for the r^2 = .84 result. I assume it will be a little smaller since I am using ESR scores and not SMS scores\n",
    "\n",
    "The orange points are HMA. I guess I wasn't able to replicate the results"
   ]
  },
  {
   "cell_type": "code",
   "execution_count": 27,
   "metadata": {},
   "outputs": [
    {
     "name": "stdout",
     "output_type": "stream",
     "text": [
      "r^2 = 0.8088928266641605\n",
      "y = 1.2960232571345567x + -8.74789831657618\n"
     ]
    },
    {
     "data": {
      "image/png": "[encoded data removed]",
      "text/plain": [
       "<Figure size 432x288 with 1 Axes>"
      ]
     },
     "metadata": {
      "needs_background": "light"
     },
     "output_type": "display_data"
    }
   ],
   "source": [
    "datafile = open('./data/sms_all_results.csv', 'r')\n",
    "datareader = csv.reader(datafile, delimiter=',')\n",
    "all_data = {}\n",
    "hma_data = {}\n",
    "rest_data = {}\n",
    "i = 0\n",
    "for row in datareader:\n",
    "    #have to add flanks\n",
    "    #row[0] is sequence, row[1] is EI, row[2] is rel EI, row[3] is PUP, row[4] is LEI and row[5] is LEIsc\n",
    "    if i < 557:\n",
    "        hma_data[row[0]] = [float(row[4]),0]\n",
    "    else:\n",
    "        rest_data[row[0]] = [float(row[4]),0]\n",
    "    i = i+1\n",
    "    all_data[row[0]] = [float(row[4]),0]\n",
    "datafile.close()\n",
    "\n",
    "for sequence in all_data:\n",
    "    all_data[sequence][1] = predictLEI_archaic_sms(sequence,23,16)\n",
    "    # 23 is the length of the left flank and the 16 is the length of the right flank\n",
    "\n",
    "for sequence in hma_data:\n",
    "    hma_data[sequence][1] = predictLEI_archaic_sms(sequence,23,16)\n",
    "    \n",
    "for sequence in rest_data:\n",
    "    rest_data[sequence][1] = predictLEI_archaic_sms(sequence,23,16)\n",
    "    \n",
    "x_vals = []\n",
    "y_vals = []\n",
    "\n",
    "#for the calculation of r^2 and line of best fit\n",
    "for sequence in all_data:\n",
    "    x_vals.append(all_data[sequence][1]) #x is predicted\n",
    "for sequence in all_data:\n",
    "    y_vals.append(all_data[sequence][0]) #y is observed\n",
    "slope, intercept, r_value, p_value, std_err = stats.linregress(x_vals,y_vals)\n",
    "\n",
    "#other points\n",
    "x_vals = []\n",
    "y_vals = []\n",
    "for sequence in rest_data:\n",
    "    x_vals.append(rest_data[sequence][1]) #x is predicted\n",
    "for sequence in rest_data:\n",
    "    y_vals.append(rest_data[sequence][0]) #y is observed\n",
    "plt.plot(x_vals,y_vals,'.')\n",
    "\n",
    "#hma points\n",
    "x_vals = []\n",
    "y_vals = []\n",
    "for sequence in hma_data:\n",
    "    x_vals.append(hma_data[sequence][1]) #x is predicted\n",
    "for sequence in hma_data:\n",
    "    y_vals.append(hma_data[sequence][0]) #y is observed\n",
    "plt.plot(x_vals,y_vals,'.')\n",
    "\n",
    "# rest of plot and equation\n",
    "plt.xlabel(\"predicted LEI\")\n",
    "plt.ylabel(\"observed LEI\")\n",
    "abline(slope,intercept)\n",
    "print(\"r^2 = \" + str(r_value**2))\n",
    "print(\"y = \" + str(slope) + \"x + \" + str(intercept))"
   ]
  },
  {
   "cell_type": "markdown",
   "metadata": {},
   "source": [
    "### Ok, now let's do this for many weights and find the best scale."
   ]
  },
  {
   "cell_type": "code",
   "execution_count": 17,
   "metadata": {},
   "outputs": [],
   "source": [
    "#data is a dictionary with sequences for keys and [observed,0] for values\n",
    "def plot_scale_performance(data,left_flank_length, right_flank_length):\n",
    "    y_vals = []\n",
    "    x_vals = []\n",
    "    scale_performance = []\n",
    "    #following loop will take a few minutes\n",
    "    for x in range(-20,51):\n",
    "        for sequence in  data:\n",
    "            data[sequence][1] = predictLEI(sequence,left_flank_length,right_flank_length,x/50)\n",
    "        for seq in data:\n",
    "            y_vals.append(data[seq][0]) # y is observed\n",
    "            x_vals.append(data[seq][1]) # x is predicted\n",
    "        slope, intercept, r_value, p_value, std_err = stats.linregress(x_vals,y_vals)\n",
    "        scale_performance.append([x/50, r_value**2])\n",
    "        x_vals = []\n",
    "        y_vals = []\n",
    "    plt.plot([item[0] for item in scale_performance],[item[1] for item in scale_performance],'.')\n",
    "    slope, intercept, r_value, p_value, std_err = stats.linregress([item[0] for item in scale_performance],\\\n",
    "                                                                   [item[1] for item in scale_performance])\n",
    "    plt.title(\"Scale effect on ESR score model (but bad)\")\n",
    "    plt.xlabel(\"scale\")\n",
    "    plt.ylabel(\"performance: r^2 of observed v. predicted\")\n",
    "    abline(slope,intercept)\n",
    "    plt.axvline(x=0)\n",
    "    print(\"r^2 = \" + str(r_value**2))\n",
    "    print(\"y = \" + str(slope) + \"x + \" + str(intercept))\n",
    "    return(scale_performance)\n",
    "#scale_performance is a list of [scale, r^2 performance]"
   ]
  },
  {
   "cell_type": "code",
   "execution_count": 18,
   "metadata": {},
   "outputs": [
    {
     "name": "stdout",
     "output_type": "stream",
     "text": [
      "r^2 = 0.9688833490095049\n",
      "y = -0.23296636149008343x + 0.46855174026684626\n"
     ]
    },
    {
     "data": {
      "image/png": "[encoded data removed]",
      "text/plain": [
       "<Figure size 432x288 with 1 Axes>"
      ]
     },
     "metadata": {
      "needs_background": "light"
     },
     "output_type": "display_data"
    }
   ],
   "source": [
    "sms_demonstration = plot_scale_performance(hma_data, 23,16)"
   ]
  },
  {
   "cell_type": "code",
   "execution_count": 104,
   "metadata": {},
   "outputs": [
    {
     "name": "stdout",
     "output_type": "stream",
     "text": [
      "137.25020829999994\n"
     ]
    }
   ],
   "source": [
    "start = timer()\n",
    "\n",
    "scale_performance = []\n",
    "\n",
    "#y doesn't change so let's do that first\n",
    "y_vals = []\n",
    "x_vals = []\n",
    "\n",
    "for x in range(-20,51):\n",
    "    for sequence in  hma_data:\n",
    "        hma_data[sequence][1] = predictLEI(sequence,23,16,x/50)\n",
    "    for seq in hma_data:\n",
    "        y_vals.append(hma_data[seq][0]) # y is observed\n",
    "        x_vals.append(hma_data[seq][1]) # x is predicted\n",
    "    slope, intercept, r_value, p_value, std_err = stats.linregress(x_vals,y_vals)\n",
    "    scale_performance.append([x/50, r_value**2])\n",
    "    x_vals = []\n",
    "    y_vals = []\n",
    "    \n",
    "end = timer()\n",
    "print(end - start)"
   ]
  },
  {
   "cell_type": "code",
   "execution_count": 114,
   "metadata": {},
   "outputs": [
    {
     "name": "stdout",
     "output_type": "stream",
     "text": [
      "r^2 = 0.9484175340495615\n",
      "y = -0.31215865889625083x + 0.4565186175266532\n"
     ]
    },
    {
     "data": {
      "image/png": "[encoded data removed]",
      "text/plain": [
       "<Figure size 432x288 with 1 Axes>"
      ]
     },
     "metadata": {
      "needs_background": "light"
     },
     "output_type": "display_data"
    }
   ],
   "source": [
    "plt.plot([item[0] for item in scale_performance],[item[1] for item in scale_performance],'.')\n",
    "slope, intercept, r_value, p_value, std_err = stats.linregress([item[0] for item in scale_performance],[item[1] for item in scale_performance])\n",
    "plt.xlabel(\"scale\")\n",
    "plt.ylabel(\"performance: r^2 of observed v. predicted\")\n",
    "abline(slope,intercept)\n",
    "print(\"r^2 = \" + str(r_value**2))\n",
    "print(\"y = \" + str(slope) + \"x + \" + str(intercept))"
   ]
  },
  {
   "cell_type": "markdown",
   "metadata": {},
   "source": [
    "Ok, takeaway: making the scale bigger just makes the model worse. And this is when I fit the test data against the data used to make the model (so it doesn't even overfit). This is the worst possible outcome. I think Though the fact that it get's better as we go negative is odd. (That doesn't happen for valcarcel's data)"
   ]
  },
  {
   "cell_type": "markdown",
   "metadata": {},
   "source": [
    "# Takeaways as of 6/25\n",
    "So first, this doesn't look to optimistic. I can't get better correlation against the HMA data even when I fit the model with the HMA data. But there is still to try out\n",
    "- the partition function\n",
    "- what is the upstream and downstream arm? are we not measuring the splicing of all of it?\n",
    "- Look into how what values are added. Why are we using LEI values? It makes since since it emphasizes small and large EI values alike, but in that case, we can also try PUP or relative EI.\n",
    "- Should we be adding scores? I think we should do something like a assymptotic curve to account for the >100 percent splicing. For example, if 2 motifs applies 50 percent better splicing, then the combined strength is 75 percent splicing.\n",
    "\n",
    "On the side I want to improve this documentation to\n",
    "- thoroughly explain the background\n",
    "- have a table of contents\n",
    "- modularize code to remove redundancy as I apply these techniques to multiple data sets.\n",
    "\n",
    "\n",
    "1. Add partition part\n",
    "2. Apply model to subset of sms data that corresponds to mutations within SL6 (27 - 49)"
   ]
  },
  {
   "cell_type": "markdown",
   "metadata": {},
   "source": [
    "## Now, we use this model on valcarcel's data."
   ]
  },
  {
   "cell_type": "code",
   "execution_count": 13,
   "metadata": {},
   "outputs": [],
   "source": [
    "# import our data\n",
    "datafile = open('./data/valcarcel_data.csv', 'r')\n",
    "datareader = csv.reader(datafile, delimiter=',')\n",
    "valcarcel_data = {}\n",
    "for row in datareader:\n",
    "    #have to add flanks\n",
    "    valcarcel_data['TGTCCAATGTTCCAACCTACAG' + row[0] + 'GTAAGTTCTTGCTTTGTTCAAA'] = [2**float(row[1]),0]\n",
    "datafile.close()\n",
    "# write in our predictments"
   ]
  },
  {
   "cell_type": "code",
   "execution_count": 1,
   "metadata": {},
   "outputs": [
    {
     "ename": "NameError",
     "evalue": "name 'plot_scale_performance' is not defined",
     "output_type": "error",
     "traceback": [
      "\u001b[0;31m---------------------------------------------------------------------------\u001b[0m",
      "\u001b[0;31mNameError\u001b[0m                                 Traceback (most recent call last)",
      "\u001b[0;32m<ipython-input-1-2292f544a5bd>\u001b[0m in \u001b[0;36m<module>\u001b[0;34m\u001b[0m\n\u001b[0;32m----> 1\u001b[0;31m \u001b[0mvalcarcel_demonstration\u001b[0m \u001b[0;34m=\u001b[0m \u001b[0mplot_scale_performance\u001b[0m\u001b[0;34m(\u001b[0m\u001b[0mvalcarcel_data\u001b[0m\u001b[0;34m,\u001b[0m\u001b[0;36m22\u001b[0m\u001b[0;34m,\u001b[0m\u001b[0;36m22\u001b[0m\u001b[0;34m)\u001b[0m\u001b[0;34m\u001b[0m\u001b[0;34m\u001b[0m\u001b[0m\n\u001b[0m",
      "\u001b[0;31mNameError\u001b[0m: name 'plot_scale_performance' is not defined"
     ]
    }
   ],
   "source": [
    "valcarcel_demonstration = plot_scale_performance(valcarcel_data,22,22)"
   ]
  },
  {
   "cell_type": "code",
   "execution_count": 113,
   "metadata": {},
   "outputs": [
    {
     "name": "stdout",
     "output_type": "stream",
     "text": [
      "r^2 = 0.2863736264350571\n",
      "y = 0.1931773642236244x + 2.24373504624906\n"
     ]
    },
    {
     "data": {
      "image/png": "[encoded data removed]",
      "text/plain": [
       "<Figure size 432x288 with 1 Axes>"
      ]
     },
     "metadata": {
      "needs_background": "light"
     },
     "output_type": "display_data"
    }
   ],
   "source": [
    "#graph data\n",
    "def abline(slope, intercept):\n",
    "    axes = plt.gca()\n",
    "    x_vals = np.array(axes.get_xlim())\n",
    "    y_vals = intercept + slope * x_vals\n",
    "    plt.plot(x_vals, y_vals, '--')\n",
    "\n",
    "x_vals = []\n",
    "y_vals = []\n",
    "for seq in valcarcel_data:\n",
    "    y_vals.append(valcarcel_data[seq][0]) #y is valcarcel's observations\n",
    "    x_vals.append(valcarcel_data[seq][1]) #x is predictions\n",
    "slope, intercept, r_value, p_value, std_err = stats.linregress(x_vals,y_vals)\n",
    "plt.plot(x_vals,y_vals,'.')\n",
    "abline(slope,intercept)\n",
    "print(\"r^2 = \" + str(r_value**2))\n",
    "print(\"y = \" + str(slope) + \"x + \" + str(intercept))"
   ]
  },
  {
   "cell_type": "code",
   "execution_count": 58,
   "metadata": {},
   "outputs": [
    {
     "name": "stdout",
     "output_type": "stream",
     "text": [
      "5.601586499999939\n"
     ]
    }
   ],
   "source": [
    "# system for trying many x values\n",
    "\n",
    "start = timer()\n",
    "\n",
    "# import our data\n",
    "datafile = open('./data/valcarcel_data.csv', 'r')\n",
    "datareader = csv.reader(datafile, delimiter=',')\n",
    "valcarcel_data = {}\n",
    "for row in datareader:\n",
    "    #have to add flanks\n",
    "    valcarcel_data['TGTCCAATGTTCCAACCTACAG' + row[0] + 'GTAAGTTCTTGCTTTGTTCAAA'] = [2**float(row[1]),0]\n",
    "datafile.close()\n",
    "\n",
    "\n",
    "x_vals = []\n",
    "y_vals = []\n",
    "scale_performace = {}\n",
    "for x in range(0,6):\n",
    "    for sequence in  valcarcel_data:\n",
    "        valcarcel_data[sequence][1] = predictLEI(sequence,22,x/5)\n",
    "    for seq in valcarcel_data:\n",
    "        y_vals.append(valcarcel_data[seq][0]) #x is valcarcel's observations\n",
    "        x_vals.append(valcarcel_data[seq][1]) #y is our predictment\n",
    "    slope, intercept, r_value, p_value, std_err = stats.linregress(x_vals,y_vals)\n",
    "    scale_performace[x/5] = r_value**2\n",
    "    x_vals = []\n",
    "    y_vals = []\n",
    "    \n",
    "    \n",
    "end = timer()\n",
    "print(end - start)"
   ]
  },
  {
   "cell_type": "code",
   "execution_count": null,
   "metadata": {},
   "outputs": [],
   "source": [
    "# for the future\n",
    "\n",
    "# seqfc = RNA.fold_compound(seq)\n",
    " \n",
    "# md = RNA.md()\n",
    "# md.computebpp = 1\n",
    "# fc = RNA.fold_compound(seq, md)\n",
    "# print(fc.probs_window(fc, 20, PROBS_WINDOW_UP))\n"
   ]
  }
 ],
 "metadata": {
  "kernelspec": {
   "display_name": "Python 3",
   "language": "python",
   "name": "python3"
  },
  "language_info": {
   "codemirror_mode": {
    "name": "ipython",
    "version": 3
   },
   "file_extension": ".py",
   "mimetype": "text/x-python",
   "name": "python",
   "nbconvert_exporter": "python",
   "pygments_lexer": "ipython3",
   "version": "3.7.6"
  }
 },
 "nbformat": 4,
 "nbformat_minor": 4
}
