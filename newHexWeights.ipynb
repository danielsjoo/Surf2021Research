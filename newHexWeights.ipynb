{
 "cells": [
  {
   "cell_type": "code",
   "execution_count": 3,
   "metadata": {},
   "outputs": [],
   "source": [
    "import csv\n",
    "import matplotlib.pyplot as plt\n",
    "import numpy as np\n",
    "from scipy import stats"
   ]
  },
  {
   "cell_type": "markdown",
   "metadata": {},
   "source": [
    "<h2> I start with importing the csv files for the list of hexamers, list of 16nt sequences, and a 1:1 corresponding list of LEIs<h2>"
   ]
  },
  {
   "cell_type": "code",
   "execution_count": 4,
   "metadata": {},
   "outputs": [
    {
     "name": "stdout",
     "output_type": "stream",
     "text": [
      "AAAAAA\n",
      "[['GAGTTAAAAAAGGGAG', 'AATGGAAAAAAGGGCA', 'TACCCAAAAAACCAGA', 'TGGCAAAAAAATGCTC', 'CTGTGAAAAAATGCAC'], ['GAGTTAAAAACGGGAG', 'AATGGAAAAACGGGCA', 'TACCCAAAAACCCAGA', 'TGGCAAAAAACTGCTC', 'CTGTGAAAAACTGCAC']]\n",
      "[['-0.371', '-0.101', '-0.464', '-0.8019', '0.0889'], ['-0.0103', '0.7433', '-1.4827', '0.633', '0.4231']]\n",
      "AAAAAA\n",
      "[-0.371, -0.101, -0.464, -0.8019, 0.0889]\n"
     ]
    }
   ],
   "source": [
    "datafile = open('./data/hexamer_array.csv', 'r')\n",
    "datareader = csv.reader(datafile, delimiter=',')\n",
    "hexamers = []\n",
    "for row in datareader:\n",
    "    hexamers.append(row[0])\n",
    "print (hexamers[0])\n",
    "datafile.close()\n",
    "\n",
    "datafile = open('./data/all_sequences.csv', 'r')\n",
    "datareader = csv.reader(datafile, delimiter=',')\n",
    "sequences = []\n",
    "for row in datareader:\n",
    "    sequences.append(row)\n",
    "print (sequences[0:2][0:5])\n",
    "datafile.close()\n",
    "\n",
    "datafile = open('./data/lei_values.csv', 'r')\n",
    "datareader = csv.reader(datafile, delimiter=',')\n",
    "leis = []\n",
    "for row in datareader:\n",
    "    leis.append(row)\n",
    "print (leis[0:2][0:5])\n",
    "datafile.close()\n",
    "\n",
    "datafile = open('./data/neutral_motifs.csv', 'r')\n",
    "datareader = csv.reader(datafile, delimiter=',')\n",
    "n_motifs = []\n",
    "for row in datareader:\n",
    "    n_motifs.append(row[0])\n",
    "print (n_motifs[0])\n",
    "datafile.close()\n",
    "\n",
    "datafile = open('./data/results_LEI.csv', 'r')\n",
    "datareader = csv.reader(datafile, delimiter=',')\n",
    "results_LEI = {}\n",
    "for row in datareader:\n",
    "    results_LEI[row[0]] = [float(row[1]),float(row[2]),float(row[3]),float(row[4]),float(row[5])]\n",
    "print (results_LEI['AAAAAA'])\n",
    "datafile.close()\n",
    "\n",
    "\n",
    "# for sequences and leis, the first set of pointers point to the row, which there are 5 locations\n",
    "# In order, the columns correspond to WA, WD, HA, HM, HD\n",
    "# the second row points to the mutation, which there are 4096 for each variant"
   ]
  },
  {
   "cell_type": "markdown",
   "metadata": {},
   "source": [
    "<h3>Algorithm for finding all instances of each hexamer and averages the LEI values<h3>\n",
    "<p>this will produce a dictionary with hexamers as keys and average LEI values as values<p>"
   ]
  },
  {
   "cell_type": "code",
   "execution_count": 45,
   "metadata": {},
   "outputs": [
    {
     "name": "stdout",
     "output_type": "stream",
     "text": [
      "[6, 5, 5, 5, 5, 6, 5, 5, 6, 5, 5, 6, 5, 5, 5, 5, 6]\n",
      "[6.1968, 4.035, 5.913500000000001, 6.383, 5.1034999999999995, 6.477599999999999, 4.3185, 5.6765, 5.3724, 6.538, 4.543, 4.969200000000001, 4.081, 5.3735, 5.4955, 3.6420000000000003, 7.6428]\n",
      "17\n",
      "0.9836281089445988\n"
     ]
    }
   ],
   "source": [
    "# lei_vals = []\n",
    "# for x in range(0,5):\n",
    "#     for y in range(0,4096):\n",
    "#         if sequences[y][x].find(\"GACGTC\") != -1:\n",
    "#             lei_vals.append([float(leis[y][x]),6- abs(5-sequences[y][x].find(\"GACGTC\"))])\n",
    "# print ([i[1] for i in lei_vals])\n",
    "# total_weight = sum([i[1] for i in lei_vals])\n",
    "# print ([i[0]*i[1] for i in lei_vals])\n",
    "# weighted_sum = sum([i[0]*i[1] for i in lei_vals])\n",
    "# avg = weighted_sum/total_weight\n",
    "# avg_of_rest = (752.923 - sum([i[0] for i in lei_vals]))/(4096*5 - len(lei_vals))\n",
    "# print(len(lei_vals))\n",
    "# ESE = avg - avg_of_rest\n",
    "# print (ESE)"
   ]
  },
  {
   "cell_type": "code",
   "execution_count": 24,
   "metadata": {},
   "outputs": [],
   "source": [
    "# hex_dic = dict.fromkeys(hexamers, 0) #0 is the default value before we add in the averaged LEI values\n",
    "# lei_vals = []\n",
    "\n",
    "# for hexamer in hexamers:\n",
    "#     for x in range(0,5):\n",
    "#         for y in range(0,4096):\n",
    "#             if sequences[y][x].find(hexamer) != -1:\n",
    "#                 lei_vals.append(float(leis[y][x]))\n",
    "#     avg = sum(lei_vals)/len(lei_vals)\n",
    "#     avg_rest = (752.923 - sum(lei_vals))/(4096*5 - len(lei_vals))\n",
    "#     hex_dic[hexamer] = [avg-avg_rest, len(lei_vals)]\n",
    "#     lei_vals = []\n"
   ]
  },
  {
   "cell_type": "code",
   "execution_count": 5,
   "metadata": {},
   "outputs": [],
   "source": [
    "# print (hex_dic[\"CTCAAA\"]) # this allows for testing"
   ]
  },
  {
   "cell_type": "markdown",
   "metadata": {},
   "source": [
    "I will leave out the p test for now, I will just copy the data for significance from the excel and apply it to the weighted recalculation"
   ]
  },
  {
   "cell_type": "code",
   "execution_count": 90,
   "metadata": {},
   "outputs": [],
   "source": [
    "#weighted recalculation\n",
    "\n",
    "hex_dic = dict.fromkeys(hexamers, 0) #0 is the default value before we add in the averaged LEI values\n",
    "lei_vals = []\n",
    "six = 0;\n",
    "five = 0;\n",
    "four = 0;\n",
    "three = 0;\n",
    "two = 0;\n",
    "one = 0;\n",
    "bins = [];\n",
    "\n",
    "for hexamer in hexamers:\n",
    "    for x in range(0,5):\n",
    "        for y in range(0,4096):\n",
    "            if sequences[y][x].find(hexamer) != -1:\n",
    "                lei_vals.append([float(leis[y][x]),6- abs(5-sequences[y][x].find(hexamer))]) #weighted\n",
    "                \n",
    "                #lei_vals.append([float(leis[y][x]),1]) #unweighted\n",
    "    total_weight = sum([i[1] for i in lei_vals])\n",
    "    weighted_sum = sum([i[0]*i[1] for i in lei_vals])\n",
    "    weighted_avg = weighted_sum/total_weight\n",
    "    avg_rest = (752.923 - sum([i[0] for i in lei_vals]))/(4096*5 - len(lei_vals))\n",
    "    if weighted_avg-avg_rest > 0:\n",
    "        hex_dic[hexamer] = [weighted_avg-avg_rest, len(lei_vals), 1]\n",
    "    else:\n",
    "        hex_dic[hexamer] = [weighted_avg-avg_rest, len(lei_vals), -1]\n",
    "    lei_vals = []"
   ]
  },
  {
   "cell_type": "code",
   "execution_count": 91,
   "metadata": {},
   "outputs": [],
   "source": [
    "for neutral_motif in n_motifs:\n",
    "    hex_dic[neutral_motif][2] = 0"
   ]
  },
  {
   "cell_type": "code",
   "execution_count": 92,
   "metadata": {},
   "outputs": [
    {
     "name": "stdout",
     "output_type": "stream",
     "text": [
      "[-0.1590509476357952, 8, 0]\n"
     ]
    }
   ],
   "source": [
    "print (hex_dic[\"AAAAAA\"]) # this allows for testing"
   ]
  },
  {
   "cell_type": "code",
   "execution_count": 93,
   "metadata": {},
   "outputs": [],
   "source": [
    "with open(\"./data/weighted_hex_scores.csv\", 'w') as csvfile:\n",
    "    writer = csv.writer(csvfile, delimiter=',', quotechar='\"', quoting=csv.QUOTE_MINIMAL)\n",
    "    writer.writerow(['hex','score','count','assignment'])\n",
    "    for data in hex_dic:\n",
    "        writer.writerow([data,hex_dic[data][0],hex_dic[data][1],hex_dic[data][2]])"
   ]
  },
  {
   "cell_type": "markdown",
   "metadata": {},
   "source": [
    "<h2>The following code provides a predictive scoring model<h2>\n",
    "<h5>It will average the ese/esr seq scores of every hexamer and output a predicted LEI score<h5>"
   ]
  },
  {
   "cell_type": "code",
   "execution_count": 5,
   "metadata": {},
   "outputs": [],
   "source": [
    "#function that takes in string and returns predicted lei score\n",
    "def predictLEI(preMRNA):\n",
    "    #extract weighted hex scores\n",
    "    datafile = open('./data/weighted_hex_scores.csv', 'r')\n",
    "    datareader = csv.reader(datafile, delimiter=',')\n",
    "    hexScores = {}\n",
    "    next(datareader, None)\n",
    "    for row in datareader:\n",
    "        hexScores[row[0]] = float(row[1])*abs(float(row[3]))\n",
    "    datafile.close()\n",
    "    #extract hex sequences from preMRNA\n",
    "    hexs = [preMRNA[i:i+6] for i in range(len(preMRNA)-5)]\n",
    "    #list out significant weighted hex scores\n",
    "    hexLEIs = []\n",
    "    for hexSeq in hexs:\n",
    "        if hexScores[hexSeq] != 0:\n",
    "            hexLEIs.append(hexScores[hexSeq])\n",
    "    #average the hex scores, the following code will break if you input a sequence with only insignificant hexs\n",
    "    sumScores = sum(hexLEIs)\n",
    "    return(sumScores)"
   ]
  },
  {
   "cell_type": "code",
   "execution_count": 6,
   "metadata": {},
   "outputs": [
    {
     "name": "stdout",
     "output_type": "stream",
     "text": [
      "-0.3426717921298412\n"
     ]
    }
   ],
   "source": [
    "print(predictLEI(\"AAAAAT\"))"
   ]
  },
  {
   "cell_type": "markdown",
   "metadata": {},
   "source": [
    "## The following code imports and graphs Valcarcel's data v our observations"
   ]
  },
  {
   "cell_type": "code",
   "execution_count": 7,
   "metadata": {},
   "outputs": [],
   "source": [
    "# import our data\n",
    "datafile = open('./data/valcarcel_data.csv', 'r')\n",
    "datareader = csv.reader(datafile, delimiter=',')\n",
    "valcarcel_data = {}\n",
    "for row in datareader:\n",
    "    #valcarcel_data[row[0]] = [float(row[1]),0]\n",
    "    #for 2^EI\n",
    "    valcarcel_data[row[0]] = [2**float(row[1]),0]\n",
    "datafile.close()\n",
    "# write in our predictments\n",
    "for sequence in  valcarcel_data:\n",
    "    valcarcel_data[sequence][1] = predictLEI(sequence)"
   ]
  },
  {
   "cell_type": "code",
   "execution_count": 48,
   "metadata": {},
   "outputs": [
    {
     "name": "stdout",
     "output_type": "stream",
     "text": [
      "0.11875004785936076, -0.22106149996358826\n",
      "0.0534376361182483, -0.2116570215753982\n",
      "0.029217974929732972, -0.22106149996358826\n",
      "0.8066417592221263, -0.2282072210341869\n",
      "1.4250376141487842, -0.2181960080717589\n",
      "0.9686181892266277, -0.2168602033921664\n",
      "0.6228687077847369, -0.22268850808341187\n",
      "0.7209644357301124, -0.2401370022270854\n",
      "0.9100388240808991, -0.2156545887271333\n",
      "0.23148650563183099, -0.22579772139908189\n",
      "0.5767428025300112, -0.22721367859734248\n",
      "0.13802485589538657, -0.23991443945741722\n",
      "0.9552829363824373, -0.17343840927410684\n",
      "0.9486843151404539, -0.1670259618687507\n",
      "0.041435180009333064, -0.25236325318298863\n",
      "0.6964057403345175, -0.23366115185435543\n",
      "1.4855529206608287, -0.15840906589195802\n",
      "0.8408964152537145, -0.2077387936051563\n",
      "0.45000096489675606, -0.2424406632199275\n",
      "0.7356033729278689, -0.2255714621212214\n",
      "0.23799447712438285, -0.24298162146124277\n",
      "1.2491961256533768, -0.2368731161616124\n",
      "1.1111087286550936, -0.2368133207048656\n",
      "0.7494998008777738, -0.21821768087238763\n",
      "0.9349751977514554, -0.19161385725470736\n",
      "2.4368205273503825, -0.21398066470710164\n",
      "0.8808693741269792, -0.2258417969978312\n",
      "0.7615443698516307, -0.22550283109482758\n",
      "0.9176398823113651, -0.2058589714482168\n",
      "1.0167746732919563, -0.2208310430128265\n",
      "1.0570180405613803, -0.206562707160098\n",
      "1.4732476858164802, -0.17865274816314802\n",
      "1.2345626068935383, -0.13020895865176832\n",
      "1.1900316963066757, -0.19456324894805635\n",
      "1.3481677317370566, -0.15156779841680046\n",
      "0.7552362927814128, -0.1982315996701363\n",
      "2.4032720990537015, -0.18301420109276306\n",
      "0.8741786204103732, -0.22409618712760704\n",
      "0.8179020585577811, -0.19797111444967463\n",
      "0.681129017320244, -0.20988527372694882\n",
      "0.9106698335919784, -0.2119606730334816\n",
      "0.5779433532773993, -0.21441251357293636\n",
      "0.9480269651286454, -0.18735630684317023\n",
      "1.2074805914864963, -0.14846287223005739\n",
      "1.0274014393789639, -0.15110807301573553\n",
      "0.585199320737295, -0.23171913018493714\n",
      "1.2066439197207628, -0.13435841051827715\n",
      "0.6147194336272904, -0.2073657739182265\n",
      "0.169340622185671, -0.25343611042132635\n",
      "0.9546210141397169, -0.1176495504820729\n",
      "0.8759983150671258, -0.19882282721559882\n",
      "0.6434946236506354, -0.1849562646446309\n",
      "1.2319980734457558, -0.1594176868427031\n",
      "1.1958197967761242, -0.17818259734580327\n",
      "1.8557469529425654, -0.15447445399774584\n",
      "1.0188911966167227, -0.1023025122743626\n",
      "1.0224285306099223, -0.16284825617664778\n",
      "1.1744619712136535, -0.14533828620413716\n",
      "1.0, -0.17136213508829531\n",
      "0.22221067029164257, -0.18838459618459594\n",
      "1.0905077326652577, -0.1589776798154929\n",
      "1.183451021752571, -0.1591621989933282\n",
      "0.02555943932993066, -0.2096206511888124\n",
      "0.234717936828863, -0.2383382140361973\n",
      "1.0475361270997974, -0.1715653298308098\n",
      "0.6648035540908575, -0.20302761128102473\n",
      "1.179356592261216, -0.16696299762669062\n",
      "0.8925469714729767, -0.2027772761068168\n",
      "0.5884533686093837, -0.19270287880325684\n",
      "1.0302539536200745, -0.1633755655441332\n",
      "0.009518830184962433, -0.22495635075510229\n",
      "0.3217473118253177, -0.2109878465713082\n",
      "1.1574902169901224, -0.1960681485223986\n",
      "1.3463000692767824, -0.19963596024955008\n",
      "1.2175660186629862, -0.13992288471328626\n",
      "1.3103934038583633, -0.2030928605551336\n",
      "0.9526379980439373, -0.2000667461634952\n",
      "0.6844419065459192, -0.176443079517713\n",
      "0.6386068795976949, -0.24009966294840476\n",
      "1.6471820345351462, -0.10902267570594609\n",
      "0.9233823107293948, -0.1987025656904931\n",
      "0.4766492726440795, -0.24796202277843632\n",
      "0.2797092752589278, -0.21586899627439907\n",
      "0.3895822898302499, -0.21624204698838345\n",
      "1.1949912048567823, -0.19985790558734218\n",
      "1.0859818563222943, -0.2217240483497302\n",
      "0.0708543382986514, -0.21865050915072948\n",
      "0.5094455983083613, -0.23837994722480477\n",
      "0.8201729111967263, -0.231911526263579\n",
      "0.2025008684080115, -0.2240230374020004\n",
      "1.1826310002441427, -0.22072510982492616\n",
      "0.9486843151404539, -0.2571730496359913\n",
      "0.43557709607112804, -0.15626656826799232\n",
      "0.9144650894999015, -0.2556308357128928\n",
      "0.9659363289248456, -0.25254005304697413\n",
      "1.1297472145701235, -0.23987554153785826\n",
      "0.07411965621318424, -0.281879647388533\n",
      "0.18959594317180525, -0.2572253895250217\n",
      "0.0430154875497093, -0.2839307060081482\n",
      "0.8833150514814652, -0.19616024458724085\n",
      "0.8888426811665702, -0.24440633794360345\n",
      "1.2167223586340676, -0.1533626156863982\n",
      "0.969289816935065, -0.2282311848864394\n",
      "1.092020545745652, -0.22698543468650026\n",
      "1.1227214220736084, -0.1992773272978119\n",
      "0.6207137457630562, -0.2548495396368497\n",
      "0.9253044280378523, -0.23526374097325004\n",
      "0.20110209273547894, -0.2711613997959991\n",
      "1.1974787046189286, -0.1896490032999382\n",
      "1.1687772485612455, -0.2028930826009764\n",
      "1.2570133745218284, -0.14826370904130995\n",
      "0.9828205985452511, -0.21138723436351242\n",
      "1.0762401247837972, -0.19601971450552508\n",
      "1.2091556758333615, -0.1614412024124484\n",
      "1.2843158089894255, -0.19540072986559556\n",
      "1.1777227895949816, -0.1263992759375921\n",
      "1.2033030259995023, -0.19993950801397864\n",
      "0.19091468724508762, -0.2469275464023387\n",
      "1.2201005102722233, -0.13478596006439958\n",
      "1.2099940892192926, -0.19362047137641278\n",
      "0.5856050906094049, -0.21950457512276886\n",
      "0.31643914849257, -0.2182742783451599\n",
      "0.4239599823165739, -0.21112100959527375\n",
      "0.8833150514814652, -0.1790188610370521\n",
      "0.8857675191023606, -0.17272564704247817\n",
      "0.43618135288537924, -0.1935786470589779\n",
      "0.7219645977612481, -0.2046903274072375\n",
      "1.0431885935298582, -0.1521061801786518\n",
      "0.15453440761511894, -0.22124511635093916\n",
      "0.6024861574973931, -0.19730040581725156\n",
      "1.2431496689039396, -0.1614961063601016\n",
      "0.399149193178325, -0.21089527961447957\n",
      "0.07737439317734034, -0.20277581293973818\n",
      "0.9944701686732144, -0.1880727131740269\n",
      "0.3980440493893899, -0.21567679277456242\n",
      "1.0288267078935756, -0.2106233665038863\n",
      "1.2622520321121156, -0.18236301762325088\n",
      "1.2692708860198048, -0.18217004753750804\n",
      "0.8621435450175959, -0.21056370395923962\n",
      "0.23569613397955988, -0.20166982139304965\n",
      "0.32601268381464005, -0.19018772732747088\n",
      "0.30020085687130216, -0.2122878829795235\n",
      "0.42631744588397835, -0.20275462278865503\n",
      "0.1962820296683931, -0.1981890450132417\n",
      "2.7434665771811946, -0.1565357972304956\n",
      "1.8263965000239832, -0.1290365551472021\n",
      "0.8550021778919727, -0.17122142138804253\n",
      "0.06633895055936216, -0.2216321234324675\n",
      "1.0950524707935747, -0.15937691760361677\n",
      "0.4607320930993519, -0.19841724294833962\n",
      "0.31229903141334414, -0.19392230540768737\n",
      "1.026689545719999, -0.20498911002522394\n",
      "0.3455580516321457, -0.20715504045652777\n",
      "1.1219434805304844, -0.16324053777503528\n",
      "1.478362431273842, -0.18417103607754362\n",
      "1.5529377500020793, -0.11585462601682954\n",
      "0.9000019297935121, -0.15934788033541972\n",
      "1.1720222836745138, -0.14493770525713312\n",
      "0.9686181892266277, -0.19364813000368178\n",
      "1.1383940290748777, -0.1596684308601277\n",
      "0.8016253293993937, -0.20715386063024113\n",
      "0.9910295632640791, -0.1928528460494329\n",
      "1.3067652538931733, -0.20402374452224226\n",
      "1.048989327574946, -0.18256141155137276\n",
      "1.0844774088430633, -0.19961393503615635\n",
      "0.6100502551361117, -0.23691479762701037\n",
      "1.1607039143837201, -0.16594833037540616\n",
      "1.0417434290082213, -0.20073409342302168\n",
      "0.9552829363824373, -0.2253657833066065\n",
      "0.6892025764878154, -0.20612030239732781\n",
      "1.0020816050796328, -0.22841507465229663\n",
      "1.0710308231914547, -0.20300074231363716\n",
      "0.9227424926537983, -0.20261963946759118\n",
      "0.8293195458144417, -0.211013343136176\n",
      "0.8066417592221263, -0.20943259869119127\n",
      "0.9780634734473393, -0.20601881354898505\n",
      "0.8538177143912449, -0.19709968857254256\n",
      "0.17051847935991932, -0.25844141445090574\n",
      "0.8766057213160351, -0.1476430749475022\n",
      "0.6117440205659331, -0.20426523114267195\n",
      "0.40109058317624313, -0.24144965889385334\n",
      "1.0431885935298582, -0.1781516454311483\n",
      "0.8987551266110297, -0.21030952121090718\n",
      "0.9233823107293948, -0.20500982621581768\n",
      "0.8711541921422562, -0.19115315513764713\n",
      "0.668500247702567, -0.2049458725596664\n",
      "0.019276674528273384, -0.20440485575929024\n",
      "0.01328553375100306, -0.20440485575929024\n",
      "0.029217974929732972, -0.20760429017614093\n",
      "189\n"
     ]
    }
   ],
   "source": [
    "for seq in valcarcel_data:\n",
    "    print(str(valcarcel_data[seq][0]) + \", \" + str(valcarcel_data[seq][1]))\n",
    "print(len(valcarcel_data))"
   ]
  },
  {
   "cell_type": "code",
   "execution_count": 8,
   "metadata": {
    "scrolled": false
   },
   "outputs": [
    {
     "name": "stdout",
     "output_type": "stream",
     "text": [
      "r^2 = 0.2888178333460086\n",
      "y = 0.1930928966516952x + 2.2460648702143713\n"
     ]
    },
    {
     "data": {
      "image/png": "[encoded data removed]",
      "text/plain": [
       "<Figure size 432x288 with 1 Axes>"
      ]
     },
     "metadata": {
      "needs_background": "light"
     },
     "output_type": "display_data"
    }
   ],
   "source": [
    "#graph data\n",
    "def abline(slope, intercept):\n",
    "    axes = plt.gca()\n",
    "    x_vals = np.array(axes.get_xlim())\n",
    "    y_vals = intercept + slope * x_vals\n",
    "    plt.plot(x_vals, y_vals, '--')\n",
    "\n",
    "x_vals = []\n",
    "y_vals = []\n",
    "for seq in valcarcel_data:\n",
    "    y_vals.append(valcarcel_data[seq][0]) #x is valcarcel's observations\n",
    "    x_vals.append(valcarcel_data[seq][1]) #y is our predictment\n",
    "slope, intercept, r_value, p_value, std_err = stats.linregress(x_vals,y_vals)\n",
    "plt.plot(x_vals,y_vals,'.')\n",
    "abline(slope,intercept)\n",
    "print(\"r^2 = \" + str(r_value**2))\n",
    "print(\"y = \" + str(slope) + \"x + \" + str(intercept))"
   ]
  },
  {
   "cell_type": "markdown",
   "metadata": {},
   "source": [
    "## This section is for predicting the data we built our model on\n",
    "I will only apply this to the human globin gene"
   ]
  },
  {
   "cell_type": "code",
   "execution_count": 22,
   "metadata": {},
   "outputs": [
    {
     "name": "stdout",
     "output_type": "stream",
     "text": [
      "TACCCTTGGACCCAGA\n",
      "GCTGCTGGTGGTCTACCC\n",
      "TTGGAC\n",
      "CCAGAGGTTCTTTGAGTCCTTTGGGG\n",
      "TGGCAAGAAAGTGCTC\n",
      "AGAAAG\n",
      "CTGTGACAAGCTGCAC\n",
      "ACAAGC\n"
     ]
    }
   ],
   "source": [
    "#ugly import of the globin gene\n",
    "\n",
    "globin = \"GGCATGAAAGTCAGGGCAGAGCCATCTATTGCTTACATTTGCTTCTGACACAACTGTGTTCACTAGCAAC\\\n",
    "CTCAAACAGACACCATGGTGCACCTGACTCCTGAGGAGAAGTCTGCCGTTACTGCCCTGTGGGGCAAGGT\\\n",
    "GAACGTGGATGAAGTTGGTGGTGAGGCCCTGGGCAGGTTGGTATCAAGGTTACAAGACAGGTTTAAGGAG\\\n",
    "ACCAATAGAAACTGGGCATGTGGAGACAGAGAAGACTCTTGGGTTTCTGATAGGCACTGACTCTCTCTGC\\\n",
    "CTATTGGTCTATTTTCCCACCCTTAGGCTGCTGGTGGTCTACCCTTGGACCCAGAGGTTCTTTGAGTCCT\\\n",
    "TTGGGGATCTGTCCACTCCTGATGCTGTTATGGGCAACCCTAAGGTGAAGGCTCATGGCAAGAAAGTGCT\\\n",
    "CGGTGCCTTTAGTGATGGCCTGGCTCACCTGGACAACCTCAAGGGCACCTTTGCCACACTGAGTGAGCTG\\\n",
    "CACTGTGACAAGCTGCACGTGGATCCTGAGAACTTCAGGGTGAGTCTATGGGACCCTTGATGTTTTCTTT\\\n",
    "CCCCTTCTTTTCTATGGTTAAGTTCATGTCATAGGAAGGGGAGAAGTAACAGGGTACAGTTTAGAATGGG\\\n",
    "AAACAGACGAATGATT\"\n",
    "\n",
    "globinExon2 = globin[306:529]\n",
    "\n",
    "print(globinExon2[13:29])\n",
    "print(globinExon2[:18])\n",
    "print(globinExon2[18:24])\n",
    "print(globinExon2[24:50])\n",
    "print(globinExon2[99:115])\n",
    "print(globinExon2[104:110])\n",
    "print(globinExon2[186:202])\n",
    "print(globinExon2[191:197])"
   ]
  },
  {
   "cell_type": "code",
   "execution_count": 39,
   "metadata": {},
   "outputs": [],
   "source": [
    "#create the globin mutations and put in data\n",
    "globin_mutations = {}\n",
    "temp_globin = \"\"\n",
    "for hexamer in hexamers:\n",
    "    globin_mutations[globinExon2[:18] + hexamer + globinExon2[24:]] = [results_LEI[hexamer][2],0]\n",
    "    globin_mutations[globinExon2[:104] + hexamer + globinExon2[110:]] = [results_LEI[hexamer][3],0]\n",
    "    globin_mutations[globinExon2[:191] + hexamer + globinExon2[197:]] = [results_LEI[hexamer][4],0]\n",
    "for sequence in globin_mutations:\n",
    "    globin_mutations[sequence][1] = predictLEI(sequence)"
   ]
  },
  {
   "cell_type": "code",
   "execution_count": 40,
   "metadata": {},
   "outputs": [
    {
     "name": "stdout",
     "output_type": "stream",
     "text": [
      "r^2 = 0.4407067017337372\n",
      "y = 21.323409481350836x + -0.6322230205726835\n"
     ]
    },
    {
     "data": {
      "image/png": "[encoded data removed]",
      "text/plain": [
       "<Figure size 432x288 with 1 Axes>"
      ]
     },
     "metadata": {
      "needs_background": "light"
     },
     "output_type": "display_data"
    }
   ],
   "source": [
    "def abline(slope, intercept):\n",
    "    axes = plt.gca()\n",
    "    x_vals = np.array(axes.get_xlim())\n",
    "    y_vals = intercept + slope * x_vals\n",
    "    plt.plot(x_vals, y_vals, '--')\n",
    "\n",
    "x_vals = []\n",
    "y_vals = []\n",
    "for seq in globin_mutations:\n",
    "    y_vals.append(globin_mutations[seq][0]) #x is our observations\n",
    "    x_vals.append(globin_mutations[seq][1]) #y is our predictment\n",
    "slope, intercept, r_value, p_value, std_err = stats.linregress(x_vals,y_vals)\n",
    "plt.plot(x_vals,y_vals,'.')\n",
    "abline(slope,intercept)\n",
    "print(\"r^2 = \" + str(r_value**2))\n",
    "print(\"y = \" + str(slope) + \"x + \" + str(intercept))"
   ]
  }
 ],
 "metadata": {
  "kernelspec": {
   "display_name": "Python 3",
   "language": "python",
   "name": "python3"
  },
  "language_info": {
   "codemirror_mode": {
    "name": "ipython",
    "version": 3
   },
   "file_extension": ".py",
   "mimetype": "text/x-python",
   "name": "python",
   "nbconvert_exporter": "python",
   "pygments_lexer": "ipython3",
   "version": "3.7.6"
  }
 },
 "nbformat": 4,
 "nbformat_minor": 5
}
