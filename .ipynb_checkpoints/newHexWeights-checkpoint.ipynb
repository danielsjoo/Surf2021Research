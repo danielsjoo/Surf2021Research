{
 "cells": [
  {
   "cell_type": "code",
   "execution_count": 1,
   "id": "e095ba24",
   "metadata": {},
   "outputs": [],
   "source": [
    "import csv"
   ]
  },
  {
   "cell_type": "markdown",
   "id": "8ecf6c0f",
   "metadata": {},
   "source": [
    "<h2> I start with importing the csv files for the list of hexamers, list of 16nt sequences, and a 1:1 corresponding list of LEIs<h2>"
   ]
  },
  {
   "cell_type": "code",
   "execution_count": 8,
   "id": "016516d9",
   "metadata": {},
   "outputs": [
    {
     "name": "stdout",
     "output_type": "stream",
     "text": [
      "AAAAAA\n",
      "[['GAGTTAAAAAAGGGAG', 'AATGGAAAAAAGGGCA', 'TACCCAAAAAACCAGA', 'TGGCAAAAAAATGCTC', 'CTGTGAAAAAATGCAC'], ['GAGTTAAAAACGGGAG', 'AATGGAAAAACGGGCA', 'TACCCAAAAACCCAGA', 'TGGCAAAAAACTGCTC', 'CTGTGAAAAACTGCAC']]\n",
      "[['-0.371', '-0.101', '-0.464', '-0.8019', '0.0889'], ['-0.0103', '0.7433', '-1.4827', '0.633', '0.4231']]\n",
      "AAAAAA\n"
     ]
    }
   ],
   "source": [
    "datafile = open('./data/hexamer_array.csv', 'r')\n",
    "datareader = csv.reader(datafile, delimiter=',')\n",
    "hexamers = []\n",
    "for row in datareader:\n",
    "    hexamers.append(row[0])\n",
    "print (hexamers[0])\n",
    "datafile.close()\n",
    "\n",
    "datafile = open('./data/all_sequences.csv', 'r')\n",
    "datareader = csv.reader(datafile, delimiter=',')\n",
    "sequences = []\n",
    "for row in datareader:\n",
    "    sequences.append(row)\n",
    "print (sequences[0:2][0:5])\n",
    "datafile.close()\n",
    "\n",
    "datafile = open('./data/lei_values.csv', 'r')\n",
    "datareader = csv.reader(datafile, delimiter=',')\n",
    "leis = []\n",
    "for row in datareader:\n",
    "    leis.append(row)\n",
    "print (leis[0:2][0:5])\n",
    "datafile.close()\n",
    "\n",
    "datafile = open('./data/neutral_motifs.csv', 'r')\n",
    "datareader = csv.reader(datafile, delimiter=',')\n",
    "n_motifs = []\n",
    "for row in datareader:\n",
    "    n_motifs.append(row[0])\n",
    "print (n_motifs[0])\n",
    "datafile.close()\n",
    "\n",
    "# for sequences and leis, the first set of pointers point to the row, which there are 5 locations\n",
    "# In order, the columns correspond to WA, WD, HA, HM, HD\n",
    "# the second row points to the mutation, which there are 4096 for each variant"
   ]
  },
  {
   "cell_type": "markdown",
   "id": "0478552e",
   "metadata": {},
   "source": [
    "<h3>Algorithm for finding all instances of each hexamer and averages the LEI values<h3>\n",
    "<p>this will produce a dictionary with hexamers as keys and average LEI values as values<p>"
   ]
  },
  {
   "cell_type": "code",
   "execution_count": 45,
   "id": "58ba9365",
   "metadata": {},
   "outputs": [
    {
     "name": "stdout",
     "output_type": "stream",
     "text": [
      "[6, 5, 5, 5, 5, 6, 5, 5, 6, 5, 5, 6, 5, 5, 5, 5, 6]\n",
      "[6.1968, 4.035, 5.913500000000001, 6.383, 5.1034999999999995, 6.477599999999999, 4.3185, 5.6765, 5.3724, 6.538, 4.543, 4.969200000000001, 4.081, 5.3735, 5.4955, 3.6420000000000003, 7.6428]\n",
      "17\n",
      "0.9836281089445988\n"
     ]
    }
   ],
   "source": [
    "# lei_vals = []\n",
    "# for x in range(0,5):\n",
    "#     for y in range(0,4096):\n",
    "#         if sequences[y][x].find(\"GACGTC\") != -1:\n",
    "#             lei_vals.append([float(leis[y][x]),6- abs(5-sequences[y][x].find(\"GACGTC\"))])\n",
    "# print ([i[1] for i in lei_vals])\n",
    "# total_weight = sum([i[1] for i in lei_vals])\n",
    "# print ([i[0]*i[1] for i in lei_vals])\n",
    "# weighted_sum = sum([i[0]*i[1] for i in lei_vals])\n",
    "# avg = weighted_sum/total_weight\n",
    "# avg_of_rest = (752.923 - sum([i[0] for i in lei_vals]))/(4096*5 - len(lei_vals))\n",
    "# print(len(lei_vals))\n",
    "# ESE = avg - avg_of_rest\n",
    "# print (ESE)"
   ]
  },
  {
   "cell_type": "code",
   "execution_count": 24,
   "id": "98cce9ad",
   "metadata": {},
   "outputs": [],
   "source": [
    "# hex_dic = dict.fromkeys(hexamers, 0) #0 is the default value before we add in the averaged LEI values\n",
    "# lei_vals = []\n",
    "\n",
    "# for hexamer in hexamers:\n",
    "#     for x in range(0,5):\n",
    "#         for y in range(0,4096):\n",
    "#             if sequences[y][x].find(hexamer) != -1:\n",
    "#                 lei_vals.append(float(leis[y][x]))\n",
    "#     avg = sum(lei_vals)/len(lei_vals)\n",
    "#     avg_rest = (752.923 - sum(lei_vals))/(4096*5 - len(lei_vals))\n",
    "#     hex_dic[hexamer] = [avg-avg_rest, len(lei_vals)]\n",
    "#     lei_vals = []\n"
   ]
  },
  {
   "cell_type": "code",
   "execution_count": 5,
   "id": "1c2cf292",
   "metadata": {},
   "outputs": [],
   "source": [
    "# print (hex_dic[\"CTCAAA\"]) # this allows for testing"
   ]
  },
  {
   "cell_type": "markdown",
   "id": "3789c9ef",
   "metadata": {},
   "source": [
    "I will leave out the p test for now, I will just copy the data for significance from the excel and apply it to the weighted recalculation"
   ]
  },
  {
   "cell_type": "code",
   "execution_count": 9,
   "id": "b94e0a68",
   "metadata": {},
   "outputs": [],
   "source": [
    "#weighted recalculation\n",
    "\n",
    "hex_dic = dict.fromkeys(hexamers, 0) #0 is the default value before we add in the averaged LEI values\n",
    "lei_vals = []\n",
    "\n",
    "for hexamer in hexamers:\n",
    "    for x in range(0,5):\n",
    "        for y in range(0,4096):\n",
    "            if sequences[y][x].find(hexamer) != -1:\n",
    "                lei_vals.append([float(leis[y][x]),6- abs(5-sequences[y][x].find(hexamer))])\n",
    "    total_weight = sum([i[1] for i in lei_vals])\n",
    "    weighted_sum = sum([i[0]*i[1] for i in lei_vals])\n",
    "    weighted_avg = weighted_sum/total_weight\n",
    "    avg_rest = (752.923 - sum([i[0] for i in lei_vals]))/(4096*5 - len(lei_vals))\n",
    "    if weighted_avg-avg_rest > 0:\n",
    "        hex_dic[hexamer] = [weighted_avg-avg_rest, len(lei_vals), 1]\n",
    "    else:\n",
    "        hex_dic[hexamer] = [weighted_avg-avg_rest, len(lei_vals), -1]\n",
    "    lei_vals = []"
   ]
  },
  {
   "cell_type": "code",
   "execution_count": 11,
   "id": "13c1d177",
   "metadata": {},
   "outputs": [],
   "source": [
    "for neutral_motif in n_motifs:\n",
    "    hex_dic[neutral_motif][2] = 0"
   ]
  },
  {
   "cell_type": "code",
   "execution_count": 14,
   "id": "e3869353",
   "metadata": {},
   "outputs": [
    {
     "name": "stdout",
     "output_type": "stream",
     "text": [
      "[-0.16719185672670428, 8, 0]\n"
     ]
    }
   ],
   "source": [
    "print (hex_dic[\"AAAAAA\"]) # this allows for testing"
   ]
  },
  {
   "cell_type": "code",
   "execution_count": 21,
   "id": "c81767af",
   "metadata": {},
   "outputs": [],
   "source": [
    "with open(\"./data/weighted_hex_scores.csv\", 'w') as csvfile:\n",
    "    writer = csv.writer(csvfile, delimiter=',', quotechar='\"', quoting=csv.QUOTE_MINIMAL)\n",
    "    writer.writerow(['hex','score','count','assignment'])\n",
    "    for data in hex_dic:\n",
    "        writer.writerow([data,hex_dic[data][0],hex_dic[data][1],hex_dic[data][2]])"
   ]
  }
 ],
 "metadata": {
  "kernelspec": {
   "display_name": "Python 3",
   "language": "python",
   "name": "python3"
  },
  "language_info": {
   "codemirror_mode": {
    "name": "ipython",
    "version": 3
   },
   "file_extension": ".py",
   "mimetype": "text/x-python",
   "name": "python",
   "nbconvert_exporter": "python",
   "pygments_lexer": "ipython3",
   "version": "3.9.5"
  }
 },
 "nbformat": 4,
 "nbformat_minor": 5
}
